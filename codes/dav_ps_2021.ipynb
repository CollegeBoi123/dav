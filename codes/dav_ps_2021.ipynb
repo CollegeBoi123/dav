{
 "cells": [
  {
   "cell_type": "code",
   "execution_count": 5,
   "id": "65c1a8bd",
   "metadata": {},
   "outputs": [],
   "source": [
    "import numpy as np\n",
    "import pandas as pd\n",
    "import matplotlib.pyplot as plt"
   ]
  },
  {
   "cell_type": "markdown",
   "id": "8eaa1227",
   "metadata": {},
   "source": [
    "# Q1"
   ]
  },
  {
   "cell_type": "markdown",
   "id": "dd820cc4",
   "metadata": {},
   "source": [
    "1. Consider a list of values: \n",
    "bag = [25,26,21,22,31,29,33,34,26,30,31,46]\n",
    "• Import the appropriate Python libraries to create a ndarray called bag_weights\n",
    "having 3 rows and 4 columns from the list bag.\n",
    "• Use Numpy library to display the mean, variance and median of the given data in \n",
    "bag_weights.\n",
    "• Write a command to display the count of values greater than the median in \n",
    "bag_weights.\n",
    "• Transpose bag_weights and then split it in two arrays bagA and bagB having 2 \n",
    "rows and three columns each.\n",
    "• Sort bagA such that it brings the highest value of the row in the first column. Sort bagB\n",
    "such that it brings the lowest value of the row in the first column. \n",
    "• Find the union and intersection of values in bagA and bagB."
   ]
  },
  {
   "cell_type": "code",
   "execution_count": 6,
   "id": "40d659c6",
   "metadata": {},
   "outputs": [],
   "source": [
    "bag = [25,26,21,22,31,29,33,34,26,30,31,46]"
   ]
  },
  {
   "cell_type": "code",
   "execution_count": 7,
   "id": "63db6b61",
   "metadata": {},
   "outputs": [
    {
     "data": {
      "text/plain": [
       "array([[25, 26, 21, 22],\n",
       "       [31, 29, 33, 34],\n",
       "       [26, 30, 31, 46]])"
      ]
     },
     "execution_count": 7,
     "metadata": {},
     "output_type": "execute_result"
    }
   ],
   "source": [
    "bag_weights=np.array(bag).reshape(3,4)\n",
    "bag_weights"
   ]
  },
  {
   "cell_type": "code",
   "execution_count": 8,
   "id": "5416eead",
   "metadata": {},
   "outputs": [
    {
     "data": {
      "text/plain": [
       "array([23.5 , 31.75, 33.25])"
      ]
     },
     "execution_count": 8,
     "metadata": {},
     "output_type": "execute_result"
    }
   ],
   "source": [
    "bag_weights.mean(axis=1)"
   ]
  },
  {
   "cell_type": "code",
   "execution_count": 9,
   "id": "310c3970",
   "metadata": {},
   "outputs": [
    {
     "data": {
      "text/plain": [
       "array([ 4.25  ,  3.6875, 57.6875])"
      ]
     },
     "execution_count": 9,
     "metadata": {},
     "output_type": "execute_result"
    }
   ],
   "source": [
    "bag_weights.var(axis=1)"
   ]
  },
  {
   "cell_type": "code",
   "execution_count": 10,
   "id": "bdb4902f",
   "metadata": {},
   "outputs": [
    {
     "data": {
      "text/plain": [
       "29.5"
      ]
     },
     "execution_count": 10,
     "metadata": {},
     "output_type": "execute_result"
    }
   ],
   "source": [
    "med=np.median(bag_weights)\n",
    "med"
   ]
  },
  {
   "cell_type": "code",
   "execution_count": 17,
   "id": "9199abf9",
   "metadata": {},
   "outputs": [
    {
     "data": {
      "text/plain": [
       "6"
      ]
     },
     "execution_count": 17,
     "metadata": {},
     "output_type": "execute_result"
    }
   ],
   "source": [
    "(bag_weights>med).sum()-"
   ]
  },
  {
   "cell_type": "code",
   "execution_count": 12,
   "id": "3a61a2aa",
   "metadata": {},
   "outputs": [],
   "source": [
    "transpose_bag=bag_weights.T\n",
    "two_array=np.array_split(transpose_bag,2)\n",
    "bagA=two_array[0]\n",
    "bagB=two_array[1]"
   ]
  },
  {
   "cell_type": "code",
   "execution_count": 13,
   "id": "7676d607",
   "metadata": {},
   "outputs": [
    {
     "data": {
      "text/plain": [
       "array([[25, 31, 26],\n",
       "       [26, 29, 30]])"
      ]
     },
     "execution_count": 13,
     "metadata": {},
     "output_type": "execute_result"
    }
   ],
   "source": [
    "bagA"
   ]
  },
  {
   "cell_type": "code",
   "execution_count": 14,
   "id": "9be4407d",
   "metadata": {},
   "outputs": [
    {
     "data": {
      "text/plain": [
       "array([[31, 26, 25],\n",
       "       [30, 29, 26]])"
      ]
     },
     "execution_count": 14,
     "metadata": {},
     "output_type": "execute_result"
    }
   ],
   "source": [
    "np.sort(-bagA,axis=1)*-1"
   ]
  },
  {
   "cell_type": "code",
   "execution_count": 12,
   "id": "6c20eb1d",
   "metadata": {},
   "outputs": [
    {
     "data": {
      "text/plain": [
       "array([[21, 33, 31],\n",
       "       [22, 34, 46]])"
      ]
     },
     "execution_count": 12,
     "metadata": {},
     "output_type": "execute_result"
    }
   ],
   "source": [
    "bagB"
   ]
  },
  {
   "cell_type": "code",
   "execution_count": 13,
   "id": "e241dd5f",
   "metadata": {},
   "outputs": [
    {
     "data": {
      "text/plain": [
       "array([[21, 31, 33],\n",
       "       [22, 34, 46]])"
      ]
     },
     "execution_count": 13,
     "metadata": {},
     "output_type": "execute_result"
    }
   ],
   "source": [
    "np.sort(bagB)"
   ]
  },
  {
   "cell_type": "code",
   "execution_count": 14,
   "id": "a9f3b4f5",
   "metadata": {},
   "outputs": [
    {
     "data": {
      "text/plain": [
       "array([21, 22, 25, 26, 29, 30, 31, 33, 34, 46])"
      ]
     },
     "execution_count": 14,
     "metadata": {},
     "output_type": "execute_result"
    }
   ],
   "source": [
    "np.union1d(bagA,bagB)"
   ]
  },
  {
   "cell_type": "code",
   "execution_count": 15,
   "id": "bf6410ed",
   "metadata": {},
   "outputs": [
    {
     "data": {
      "text/plain": [
       "array([31])"
      ]
     },
     "execution_count": 15,
     "metadata": {},
     "output_type": "execute_result"
    }
   ],
   "source": [
    "np.intersect1d(bagA,bagB)"
   ]
  },
  {
   "cell_type": "markdown",
   "id": "d82efd61",
   "metadata": {},
   "source": [
    "# Q2"
   ]
  },
  {
   "cell_type": "markdown",
   "id": "50dd6aaa",
   "metadata": {},
   "source": [
    "2. Consider a list of values:\n",
    "rate = [4.23,3.8,2.98,2.56,3,114,3.8,3.78,2.98,4.8,4.10,3.65]\n",
    "• Import the appropriate Python libraries to create a one-dimensional ndarray called \n",
    "growth_rate from the list rate. Create another one-dimensional array named \n",
    "twos having the same number of elements as growth_rate, all set to 2.\n",
    "• Use Numpy library to find the index of the maximum and the minimum values in the \n",
    "array growth_rate.\n",
    "• What does a box plot show? Give a command to display a boxplot for growth_rate.\n",
    "• Concatenate the two arrays growth_rate and twos, and reshape the resulting \n",
    "array to have four rows and appropriate number of columns, call it results. \n",
    "• Find the mean, median, mode and standard deviation of each column in results.\n",
    "• Write a command to store the array results to a file called result.npy on the \n",
    "disk in the current working directory."
   ]
  },
  {
   "cell_type": "code",
   "execution_count": 19,
   "id": "3d9545dd",
   "metadata": {},
   "outputs": [],
   "source": [
    "rate = [4.23,3.8,2.98,2.56,3,114,3.8,3.78,2.98,4.8,4.10,3.65]"
   ]
  },
  {
   "cell_type": "code",
   "execution_count": 20,
   "id": "4532df75",
   "metadata": {},
   "outputs": [
    {
     "data": {
      "text/plain": [
       "array([  4.23,   3.8 ,   2.98,   2.56,   3.  , 114.  ,   3.8 ,   3.78,\n",
       "         2.98,   4.8 ,   4.1 ,   3.65])"
      ]
     },
     "execution_count": 20,
     "metadata": {},
     "output_type": "execute_result"
    }
   ],
   "source": [
    "growth_rate=np.array(rate)\n",
    "growth_rate"
   ]
  },
  {
   "cell_type": "code",
   "execution_count": 21,
   "id": "b4e9830a",
   "metadata": {},
   "outputs": [
    {
     "data": {
      "text/plain": [
       "array([2., 2., 2., 2., 2., 2., 2., 2., 2., 2., 2., 2.])"
      ]
     },
     "execution_count": 21,
     "metadata": {},
     "output_type": "execute_result"
    }
   ],
   "source": [
    "twos=np.full_like(growth_rate,2)\n",
    "twos"
   ]
  },
  {
   "cell_type": "code",
   "execution_count": 22,
   "id": "4dbd7cc1",
   "metadata": {},
   "outputs": [
    {
     "data": {
      "text/plain": [
       "5"
      ]
     },
     "execution_count": 22,
     "metadata": {},
     "output_type": "execute_result"
    }
   ],
   "source": [
    "growth_rate.argmax()"
   ]
  },
  {
   "cell_type": "code",
   "execution_count": 23,
   "id": "5f12437f",
   "metadata": {},
   "outputs": [
    {
     "data": {
      "text/plain": [
       "3"
      ]
     },
     "execution_count": 23,
     "metadata": {},
     "output_type": "execute_result"
    }
   ],
   "source": [
    "growth_rate.argmin()"
   ]
  },
  {
   "cell_type": "code",
   "execution_count": 59,
   "id": "7e3b5a3c",
   "metadata": {},
   "outputs": [
    {
     "data": {
      "text/plain": [
       "<function matplotlib.pyplot.show(close=None, block=None)>"
      ]
     },
     "execution_count": 59,
     "metadata": {},
     "output_type": "execute_result"
    },
    {
     "data": {
      "image/png": "[encoded data removed]",
      "text/plain": [
       "<Figure size 640x480 with 1 Axes>"
      ]
     },
     "metadata": {},
     "output_type": "display_data"
    }
   ],
   "source": [
    "plt.boxplot(growth_rate,vert = 0)\n",
    "plt.show"
   ]
  },
  {
   "cell_type": "code",
   "execution_count": 25,
   "id": "ee96f85c",
   "metadata": {},
   "outputs": [
    {
     "data": {
      "text/plain": [
       "array([[  4.23,   3.8 ,   2.98,   2.56,   3.  , 114.  ],\n",
       "       [  3.8 ,   3.78,   2.98,   4.8 ,   4.1 ,   3.65],\n",
       "       [  2.  ,   2.  ,   2.  ,   2.  ,   2.  ,   2.  ],\n",
       "       [  2.  ,   2.  ,   2.  ,   2.  ,   2.  ,   2.  ]])"
      ]
     },
     "execution_count": 25,
     "metadata": {},
     "output_type": "execute_result"
    }
   ],
   "source": [
    "results=np.concatenate([growth_rate,twos]).reshape(4,6)\n",
    "results"
   ]
  },
  {
   "cell_type": "code",
   "execution_count": 26,
   "id": "5e3b18b2",
   "metadata": {},
   "outputs": [
    {
     "data": {
      "text/plain": [
       "array([ 3.0075,  2.895 ,  2.49  ,  2.84  ,  2.775 , 30.4125])"
      ]
     },
     "execution_count": 26,
     "metadata": {},
     "output_type": "execute_result"
    }
   ],
   "source": [
    "results.mean(axis=0)"
   ]
  },
  {
   "cell_type": "code",
   "execution_count": 27,
   "id": "214a0b9a",
   "metadata": {},
   "outputs": [
    {
     "data": {
      "text/plain": [
       "array([2.9  , 2.89 , 2.49 , 2.28 , 2.5  , 2.825])"
      ]
     },
     "execution_count": 27,
     "metadata": {},
     "output_type": "execute_result"
    }
   ],
   "source": [
    "np.median(results,axis=0)"
   ]
  },
  {
   "cell_type": "code",
   "execution_count": 28,
   "id": "1b36613c",
   "metadata": {},
   "outputs": [
    {
     "data": {
      "text/plain": [
       "ModeResult(mode=array([[2., 2., 2., 2., 2., 2.]]), count=array([[2, 2, 2, 2, 2, 2]]))"
      ]
     },
     "execution_count": 28,
     "metadata": {},
     "output_type": "execute_result"
    }
   ],
   "source": [
    "from scipy import stats\n",
    "stats.mode(results)"
   ]
  },
  {
   "cell_type": "code",
   "execution_count": 29,
   "id": "630971b7",
   "metadata": {},
   "outputs": [
    {
     "data": {
      "text/plain": [
       "array([ 1.01890566,  0.89502793,  0.49      ,  1.15446958,  0.86710726,\n",
       "       48.26396657])"
      ]
     },
     "execution_count": 29,
     "metadata": {},
     "output_type": "execute_result"
    }
   ],
   "source": [
    "results.std(axis=0)"
   ]
  },
  {
   "cell_type": "code",
   "execution_count": 30,
   "id": "fc4bc6fd",
   "metadata": {},
   "outputs": [],
   "source": [
    "np.save('result.npy',results)"
   ]
  },
  {
   "cell_type": "markdown",
   "id": "c8a7ca06",
   "metadata": {},
   "source": [
    "# Q3"
   ]
  },
  {
   "cell_type": "code",
   "execution_count": 31,
   "id": "ec1221c3",
   "metadata": {},
   "outputs": [],
   "source": [
    "df=pd.read_csv('Q3ps.csv',sep=' ')"
   ]
  },
  {
   "cell_type": "code",
   "execution_count": 32,
   "id": "b2925a49",
   "metadata": {},
   "outputs": [
    {
     "data": {
      "text/html": [
       "<div>\n",
       "<style scoped>\n",
       "    .dataframe tbody tr th:only-of-type {\n",
       "        vertical-align: middle;\n",
       "    }\n",
       "\n",
       "    .dataframe tbody tr th {\n",
       "        vertical-align: top;\n",
       "    }\n",
       "\n",
       "    .dataframe thead th {\n",
       "        text-align: right;\n",
       "    }\n",
       "</style>\n",
       "<table border=\"1\" class=\"dataframe\">\n",
       "  <thead>\n",
       "    <tr style=\"text-align: right;\">\n",
       "      <th></th>\n",
       "      <th>#</th>\n",
       "      <th>Movie_title</th>\n",
       "      <th>Director_name</th>\n",
       "      <th>Language</th>\n",
       "      <th>Length</th>\n",
       "      <th>Budget</th>\n",
       "      <th>Gross_collections</th>\n",
       "      <th>User_rating</th>\n",
       "      <th>Critic_rating</th>\n",
       "    </tr>\n",
       "  </thead>\n",
       "  <tbody>\n",
       "    <tr>\n",
       "      <th>0</th>\n",
       "      <td>1</td>\n",
       "      <td>AAA</td>\n",
       "      <td>Ram</td>\n",
       "      <td>Urdu</td>\n",
       "      <td>120.0</td>\n",
       "      <td>90</td>\n",
       "      <td>80.0</td>\n",
       "      <td>4</td>\n",
       "      <td>7</td>\n",
       "    </tr>\n",
       "    <tr>\n",
       "      <th>1</th>\n",
       "      <td>2</td>\n",
       "      <td>BBB</td>\n",
       "      <td>Eash</td>\n",
       "      <td>Hindi</td>\n",
       "      <td>NaN</td>\n",
       "      <td>65</td>\n",
       "      <td>70.0</td>\n",
       "      <td>6</td>\n",
       "      <td>6</td>\n",
       "    </tr>\n",
       "    <tr>\n",
       "      <th>2</th>\n",
       "      <td>3</td>\n",
       "      <td>CCC</td>\n",
       "      <td>Anju</td>\n",
       "      <td>Hindi</td>\n",
       "      <td>125.0</td>\n",
       "      <td>100</td>\n",
       "      <td>150.0</td>\n",
       "      <td>9</td>\n",
       "      <td>8</td>\n",
       "    </tr>\n",
       "    <tr>\n",
       "      <th>3</th>\n",
       "      <td>4</td>\n",
       "      <td>DDD</td>\n",
       "      <td>Jay</td>\n",
       "      <td>Hindi</td>\n",
       "      <td>150.0</td>\n",
       "      <td>85</td>\n",
       "      <td>85.0</td>\n",
       "      <td>6</td>\n",
       "      <td>5</td>\n",
       "    </tr>\n",
       "    <tr>\n",
       "      <th>4</th>\n",
       "      <td>5</td>\n",
       "      <td>EEE</td>\n",
       "      <td>Eash</td>\n",
       "      <td>Hindi</td>\n",
       "      <td>90.0</td>\n",
       "      <td>60</td>\n",
       "      <td>NaN</td>\n",
       "      <td>7</td>\n",
       "      <td>5</td>\n",
       "    </tr>\n",
       "    <tr>\n",
       "      <th>5</th>\n",
       "      <td>6</td>\n",
       "      <td>FFF</td>\n",
       "      <td>Suraj</td>\n",
       "      <td>French</td>\n",
       "      <td>100.0</td>\n",
       "      <td>115</td>\n",
       "      <td>120.0</td>\n",
       "      <td>8</td>\n",
       "      <td>6</td>\n",
       "    </tr>\n",
       "    <tr>\n",
       "      <th>6</th>\n",
       "      <td>7</td>\n",
       "      <td>GGG</td>\n",
       "      <td>Anju</td>\n",
       "      <td>French</td>\n",
       "      <td>NaN</td>\n",
       "      <td>80</td>\n",
       "      <td>81.0</td>\n",
       "      <td>5</td>\n",
       "      <td>5</td>\n",
       "    </tr>\n",
       "    <tr>\n",
       "      <th>7</th>\n",
       "      <td>8</td>\n",
       "      <td>HHH</td>\n",
       "      <td>Ram</td>\n",
       "      <td>French</td>\n",
       "      <td>115.0</td>\n",
       "      <td>50</td>\n",
       "      <td>40.0</td>\n",
       "      <td>3</td>\n",
       "      <td>4</td>\n",
       "    </tr>\n",
       "    <tr>\n",
       "      <th>8</th>\n",
       "      <td>9</td>\n",
       "      <td>JJJ</td>\n",
       "      <td>Anju</td>\n",
       "      <td>French</td>\n",
       "      <td>120.0</td>\n",
       "      <td>92</td>\n",
       "      <td>75.0</td>\n",
       "      <td>3</td>\n",
       "      <td>6</td>\n",
       "    </tr>\n",
       "  </tbody>\n",
       "</table>\n",
       "</div>"
      ],
      "text/plain": [
       "   # Movie_title Director_name Language  Length  Budget  Gross_collections  \\\n",
       "0  1         AAA           Ram     Urdu   120.0      90               80.0   \n",
       "1  2         BBB          Eash    Hindi     NaN      65               70.0   \n",
       "2  3         CCC          Anju    Hindi   125.0     100              150.0   \n",
       "3  4         DDD           Jay    Hindi   150.0      85               85.0   \n",
       "4  5         EEE          Eash    Hindi    90.0      60                NaN   \n",
       "5  6         FFF         Suraj   French   100.0     115              120.0   \n",
       "6  7         GGG          Anju   French     NaN      80               81.0   \n",
       "7  8         HHH           Ram   French   115.0      50               40.0   \n",
       "8  9         JJJ          Anju   French   120.0      92               75.0   \n",
       "\n",
       "   User_rating  Critic_rating  \n",
       "0            4              7  \n",
       "1            6              6  \n",
       "2            9              8  \n",
       "3            6              5  \n",
       "4            7              5  \n",
       "5            8              6  \n",
       "6            5              5  \n",
       "7            3              4  \n",
       "8            3              6  "
      ]
     },
     "execution_count": 32,
     "metadata": {},
     "output_type": "execute_result"
    }
   ],
   "source": [
    "df"
   ]
  },
  {
   "cell_type": "markdown",
   "id": "c6a51bf9",
   "metadata": {},
   "source": [
    "Write suitable Python command(s) in Pandas library:\n",
    "• Display the number of rows and columns present in the DataFrame df?\n",
    "• Display the names of columns that have NULL values present in them, along with the \n",
    "count of NULL values. Replace the NULL values present in the column with the lowest \n",
    "value in that column.\n",
    "• Create a new column in df named Rating, which contains the mean of User_\n",
    "rating and Critic_rating. Create another column, Profit, which contains \n",
    "the difference of Gross_collections and Budget.\n",
    "• Find the correlation between Budget and Rating. Based on the correlation values \n",
    "between two variables, what inference(s) can be drawn about the relationship between \n",
    "them?\n",
    "• Group the movies according to the Director_name. Find the most profitable \n",
    "director.\n",
    "• What does a contingency table depict? Write commands to display the contingency \n",
    "table between Director_name and Language.\n"
   ]
  },
  {
   "cell_type": "code",
   "execution_count": 33,
   "id": "3855b8fb",
   "metadata": {},
   "outputs": [
    {
     "data": {
      "text/plain": [
       "(9, 9)"
      ]
     },
     "execution_count": 33,
     "metadata": {},
     "output_type": "execute_result"
    }
   ],
   "source": [
    "df.shape"
   ]
  },
  {
   "cell_type": "code",
   "execution_count": 34,
   "id": "5473e9e7",
   "metadata": {},
   "outputs": [
    {
     "data": {
      "text/plain": [
       "Index(['Length', 'Gross_collections'], dtype='object')"
      ]
     },
     "execution_count": 34,
     "metadata": {},
     "output_type": "execute_result"
    }
   ],
   "source": [
    "df.columns[df.isna().any()]"
   ]
  },
  {
   "cell_type": "code",
   "execution_count": 35,
   "id": "6a71a29f",
   "metadata": {},
   "outputs": [
    {
     "data": {
      "text/plain": [
       "#                    0\n",
       "Movie_title          0\n",
       "Director_name        0\n",
       "Language             0\n",
       "Length               2\n",
       "Budget               0\n",
       "Gross_collections    1\n",
       "User_rating          0\n",
       "Critic_rating        0\n",
       "dtype: int64"
      ]
     },
     "execution_count": 35,
     "metadata": {},
     "output_type": "execute_result"
    }
   ],
   "source": [
    "df.isna().sum()"
   ]
  },
  {
   "cell_type": "code",
   "execution_count": 36,
   "id": "5f064b29",
   "metadata": {},
   "outputs": [
    {
     "data": {
      "text/html": [
       "<div>\n",
       "<style scoped>\n",
       "    .dataframe tbody tr th:only-of-type {\n",
       "        vertical-align: middle;\n",
       "    }\n",
       "\n",
       "    .dataframe tbody tr th {\n",
       "        vertical-align: top;\n",
       "    }\n",
       "\n",
       "    .dataframe thead th {\n",
       "        text-align: right;\n",
       "    }\n",
       "</style>\n",
       "<table border=\"1\" class=\"dataframe\">\n",
       "  <thead>\n",
       "    <tr style=\"text-align: right;\">\n",
       "      <th></th>\n",
       "      <th>#</th>\n",
       "      <th>Movie_title</th>\n",
       "      <th>Director_name</th>\n",
       "      <th>Language</th>\n",
       "      <th>Length</th>\n",
       "      <th>Budget</th>\n",
       "      <th>Gross_collections</th>\n",
       "      <th>User_rating</th>\n",
       "      <th>Critic_rating</th>\n",
       "    </tr>\n",
       "  </thead>\n",
       "  <tbody>\n",
       "    <tr>\n",
       "      <th>0</th>\n",
       "      <td>1</td>\n",
       "      <td>AAA</td>\n",
       "      <td>Ram</td>\n",
       "      <td>Urdu</td>\n",
       "      <td>120.0</td>\n",
       "      <td>90</td>\n",
       "      <td>80.0</td>\n",
       "      <td>4</td>\n",
       "      <td>7</td>\n",
       "    </tr>\n",
       "    <tr>\n",
       "      <th>1</th>\n",
       "      <td>2</td>\n",
       "      <td>BBB</td>\n",
       "      <td>Eash</td>\n",
       "      <td>Hindi</td>\n",
       "      <td>90.0</td>\n",
       "      <td>65</td>\n",
       "      <td>70.0</td>\n",
       "      <td>6</td>\n",
       "      <td>6</td>\n",
       "    </tr>\n",
       "    <tr>\n",
       "      <th>2</th>\n",
       "      <td>3</td>\n",
       "      <td>CCC</td>\n",
       "      <td>Anju</td>\n",
       "      <td>Hindi</td>\n",
       "      <td>125.0</td>\n",
       "      <td>100</td>\n",
       "      <td>150.0</td>\n",
       "      <td>9</td>\n",
       "      <td>8</td>\n",
       "    </tr>\n",
       "    <tr>\n",
       "      <th>3</th>\n",
       "      <td>4</td>\n",
       "      <td>DDD</td>\n",
       "      <td>Jay</td>\n",
       "      <td>Hindi</td>\n",
       "      <td>150.0</td>\n",
       "      <td>85</td>\n",
       "      <td>85.0</td>\n",
       "      <td>6</td>\n",
       "      <td>5</td>\n",
       "    </tr>\n",
       "    <tr>\n",
       "      <th>4</th>\n",
       "      <td>5</td>\n",
       "      <td>EEE</td>\n",
       "      <td>Eash</td>\n",
       "      <td>Hindi</td>\n",
       "      <td>90.0</td>\n",
       "      <td>60</td>\n",
       "      <td>40.0</td>\n",
       "      <td>7</td>\n",
       "      <td>5</td>\n",
       "    </tr>\n",
       "    <tr>\n",
       "      <th>5</th>\n",
       "      <td>6</td>\n",
       "      <td>FFF</td>\n",
       "      <td>Suraj</td>\n",
       "      <td>French</td>\n",
       "      <td>100.0</td>\n",
       "      <td>115</td>\n",
       "      <td>120.0</td>\n",
       "      <td>8</td>\n",
       "      <td>6</td>\n",
       "    </tr>\n",
       "    <tr>\n",
       "      <th>6</th>\n",
       "      <td>7</td>\n",
       "      <td>GGG</td>\n",
       "      <td>Anju</td>\n",
       "      <td>French</td>\n",
       "      <td>90.0</td>\n",
       "      <td>80</td>\n",
       "      <td>81.0</td>\n",
       "      <td>5</td>\n",
       "      <td>5</td>\n",
       "    </tr>\n",
       "    <tr>\n",
       "      <th>7</th>\n",
       "      <td>8</td>\n",
       "      <td>HHH</td>\n",
       "      <td>Ram</td>\n",
       "      <td>French</td>\n",
       "      <td>115.0</td>\n",
       "      <td>50</td>\n",
       "      <td>40.0</td>\n",
       "      <td>3</td>\n",
       "      <td>4</td>\n",
       "    </tr>\n",
       "    <tr>\n",
       "      <th>8</th>\n",
       "      <td>9</td>\n",
       "      <td>JJJ</td>\n",
       "      <td>Anju</td>\n",
       "      <td>French</td>\n",
       "      <td>120.0</td>\n",
       "      <td>92</td>\n",
       "      <td>75.0</td>\n",
       "      <td>3</td>\n",
       "      <td>6</td>\n",
       "    </tr>\n",
       "  </tbody>\n",
       "</table>\n",
       "</div>"
      ],
      "text/plain": [
       "   # Movie_title Director_name Language  Length  Budget  Gross_collections  \\\n",
       "0  1         AAA           Ram     Urdu   120.0      90               80.0   \n",
       "1  2         BBB          Eash    Hindi    90.0      65               70.0   \n",
       "2  3         CCC          Anju    Hindi   125.0     100              150.0   \n",
       "3  4         DDD           Jay    Hindi   150.0      85               85.0   \n",
       "4  5         EEE          Eash    Hindi    90.0      60               40.0   \n",
       "5  6         FFF         Suraj   French   100.0     115              120.0   \n",
       "6  7         GGG          Anju   French    90.0      80               81.0   \n",
       "7  8         HHH           Ram   French   115.0      50               40.0   \n",
       "8  9         JJJ          Anju   French   120.0      92               75.0   \n",
       "\n",
       "   User_rating  Critic_rating  \n",
       "0            4              7  \n",
       "1            6              6  \n",
       "2            9              8  \n",
       "3            6              5  \n",
       "4            7              5  \n",
       "5            8              6  \n",
       "6            5              5  \n",
       "7            3              4  \n",
       "8            3              6  "
      ]
     },
     "execution_count": 36,
     "metadata": {},
     "output_type": "execute_result"
    }
   ],
   "source": [
    "df=df.replace(np.nan,df[df.columns[df.isna().any()]].min())\n",
    "df"
   ]
  },
  {
   "cell_type": "code",
   "execution_count": 37,
   "id": "dca32f54",
   "metadata": {},
   "outputs": [
    {
     "data": {
      "text/plain": [
       "0     7.5\n",
       "1     9.0\n",
       "2    13.0\n",
       "3     8.5\n",
       "4     9.5\n",
       "5    11.0\n",
       "6     7.5\n",
       "7     5.0\n",
       "8     6.0\n",
       "dtype: float64"
      ]
     },
     "execution_count": 37,
     "metadata": {},
     "output_type": "execute_result"
    }
   ],
   "source": [
    "rating=df['User_rating']+df['Critic_rating']/2\n",
    "rating"
   ]
  },
  {
   "cell_type": "code",
   "execution_count": 38,
   "id": "ca8e9f9e",
   "metadata": {},
   "outputs": [
    {
     "data": {
      "text/html": [
       "<div>\n",
       "<style scoped>\n",
       "    .dataframe tbody tr th:only-of-type {\n",
       "        vertical-align: middle;\n",
       "    }\n",
       "\n",
       "    .dataframe tbody tr th {\n",
       "        vertical-align: top;\n",
       "    }\n",
       "\n",
       "    .dataframe thead th {\n",
       "        text-align: right;\n",
       "    }\n",
       "</style>\n",
       "<table border=\"1\" class=\"dataframe\">\n",
       "  <thead>\n",
       "    <tr style=\"text-align: right;\">\n",
       "      <th></th>\n",
       "      <th>#</th>\n",
       "      <th>Movie_title</th>\n",
       "      <th>Director_name</th>\n",
       "      <th>Language</th>\n",
       "      <th>Length</th>\n",
       "      <th>Budget</th>\n",
       "      <th>Gross_collections</th>\n",
       "      <th>User_rating</th>\n",
       "      <th>Critic_rating</th>\n",
       "      <th>Rating</th>\n",
       "    </tr>\n",
       "  </thead>\n",
       "  <tbody>\n",
       "    <tr>\n",
       "      <th>0</th>\n",
       "      <td>1</td>\n",
       "      <td>AAA</td>\n",
       "      <td>Ram</td>\n",
       "      <td>Urdu</td>\n",
       "      <td>120.0</td>\n",
       "      <td>90</td>\n",
       "      <td>80.0</td>\n",
       "      <td>4</td>\n",
       "      <td>7</td>\n",
       "      <td>7.5</td>\n",
       "    </tr>\n",
       "    <tr>\n",
       "      <th>1</th>\n",
       "      <td>2</td>\n",
       "      <td>BBB</td>\n",
       "      <td>Eash</td>\n",
       "      <td>Hindi</td>\n",
       "      <td>90.0</td>\n",
       "      <td>65</td>\n",
       "      <td>70.0</td>\n",
       "      <td>6</td>\n",
       "      <td>6</td>\n",
       "      <td>9.0</td>\n",
       "    </tr>\n",
       "    <tr>\n",
       "      <th>2</th>\n",
       "      <td>3</td>\n",
       "      <td>CCC</td>\n",
       "      <td>Anju</td>\n",
       "      <td>Hindi</td>\n",
       "      <td>125.0</td>\n",
       "      <td>100</td>\n",
       "      <td>150.0</td>\n",
       "      <td>9</td>\n",
       "      <td>8</td>\n",
       "      <td>13.0</td>\n",
       "    </tr>\n",
       "    <tr>\n",
       "      <th>3</th>\n",
       "      <td>4</td>\n",
       "      <td>DDD</td>\n",
       "      <td>Jay</td>\n",
       "      <td>Hindi</td>\n",
       "      <td>150.0</td>\n",
       "      <td>85</td>\n",
       "      <td>85.0</td>\n",
       "      <td>6</td>\n",
       "      <td>5</td>\n",
       "      <td>8.5</td>\n",
       "    </tr>\n",
       "    <tr>\n",
       "      <th>4</th>\n",
       "      <td>5</td>\n",
       "      <td>EEE</td>\n",
       "      <td>Eash</td>\n",
       "      <td>Hindi</td>\n",
       "      <td>90.0</td>\n",
       "      <td>60</td>\n",
       "      <td>40.0</td>\n",
       "      <td>7</td>\n",
       "      <td>5</td>\n",
       "      <td>9.5</td>\n",
       "    </tr>\n",
       "    <tr>\n",
       "      <th>5</th>\n",
       "      <td>6</td>\n",
       "      <td>FFF</td>\n",
       "      <td>Suraj</td>\n",
       "      <td>French</td>\n",
       "      <td>100.0</td>\n",
       "      <td>115</td>\n",
       "      <td>120.0</td>\n",
       "      <td>8</td>\n",
       "      <td>6</td>\n",
       "      <td>11.0</td>\n",
       "    </tr>\n",
       "    <tr>\n",
       "      <th>6</th>\n",
       "      <td>7</td>\n",
       "      <td>GGG</td>\n",
       "      <td>Anju</td>\n",
       "      <td>French</td>\n",
       "      <td>90.0</td>\n",
       "      <td>80</td>\n",
       "      <td>81.0</td>\n",
       "      <td>5</td>\n",
       "      <td>5</td>\n",
       "      <td>7.5</td>\n",
       "    </tr>\n",
       "    <tr>\n",
       "      <th>7</th>\n",
       "      <td>8</td>\n",
       "      <td>HHH</td>\n",
       "      <td>Ram</td>\n",
       "      <td>French</td>\n",
       "      <td>115.0</td>\n",
       "      <td>50</td>\n",
       "      <td>40.0</td>\n",
       "      <td>3</td>\n",
       "      <td>4</td>\n",
       "      <td>5.0</td>\n",
       "    </tr>\n",
       "    <tr>\n",
       "      <th>8</th>\n",
       "      <td>9</td>\n",
       "      <td>JJJ</td>\n",
       "      <td>Anju</td>\n",
       "      <td>French</td>\n",
       "      <td>120.0</td>\n",
       "      <td>92</td>\n",
       "      <td>75.0</td>\n",
       "      <td>3</td>\n",
       "      <td>6</td>\n",
       "      <td>6.0</td>\n",
       "    </tr>\n",
       "  </tbody>\n",
       "</table>\n",
       "</div>"
      ],
      "text/plain": [
       "   # Movie_title Director_name Language  Length  Budget  Gross_collections  \\\n",
       "0  1         AAA           Ram     Urdu   120.0      90               80.0   \n",
       "1  2         BBB          Eash    Hindi    90.0      65               70.0   \n",
       "2  3         CCC          Anju    Hindi   125.0     100              150.0   \n",
       "3  4         DDD           Jay    Hindi   150.0      85               85.0   \n",
       "4  5         EEE          Eash    Hindi    90.0      60               40.0   \n",
       "5  6         FFF         Suraj   French   100.0     115              120.0   \n",
       "6  7         GGG          Anju   French    90.0      80               81.0   \n",
       "7  8         HHH           Ram   French   115.0      50               40.0   \n",
       "8  9         JJJ          Anju   French   120.0      92               75.0   \n",
       "\n",
       "   User_rating  Critic_rating  Rating  \n",
       "0            4              7     7.5  \n",
       "1            6              6     9.0  \n",
       "2            9              8    13.0  \n",
       "3            6              5     8.5  \n",
       "4            7              5     9.5  \n",
       "5            8              6    11.0  \n",
       "6            5              5     7.5  \n",
       "7            3              4     5.0  \n",
       "8            3              6     6.0  "
      ]
     },
     "execution_count": 38,
     "metadata": {},
     "output_type": "execute_result"
    }
   ],
   "source": [
    "df['Rating']=rating\n",
    "df"
   ]
  },
  {
   "cell_type": "code",
   "execution_count": 39,
   "id": "2a1506b0",
   "metadata": {},
   "outputs": [
    {
     "data": {
      "text/plain": [
       "0   -10.0\n",
       "1     5.0\n",
       "2    50.0\n",
       "3     0.0\n",
       "4   -20.0\n",
       "5     5.0\n",
       "6     1.0\n",
       "7   -10.0\n",
       "8   -17.0\n",
       "dtype: float64"
      ]
     },
     "execution_count": 39,
     "metadata": {},
     "output_type": "execute_result"
    }
   ],
   "source": [
    "profit=df['Gross_collections']-df['Budget']\n",
    "profit"
   ]
  },
  {
   "cell_type": "code",
   "execution_count": 40,
   "id": "9c571591",
   "metadata": {},
   "outputs": [
    {
     "data": {
      "text/html": [
       "<div>\n",
       "<style scoped>\n",
       "    .dataframe tbody tr th:only-of-type {\n",
       "        vertical-align: middle;\n",
       "    }\n",
       "\n",
       "    .dataframe tbody tr th {\n",
       "        vertical-align: top;\n",
       "    }\n",
       "\n",
       "    .dataframe thead th {\n",
       "        text-align: right;\n",
       "    }\n",
       "</style>\n",
       "<table border=\"1\" class=\"dataframe\">\n",
       "  <thead>\n",
       "    <tr style=\"text-align: right;\">\n",
       "      <th></th>\n",
       "      <th>#</th>\n",
       "      <th>Movie_title</th>\n",
       "      <th>Director_name</th>\n",
       "      <th>Language</th>\n",
       "      <th>Length</th>\n",
       "      <th>Budget</th>\n",
       "      <th>Gross_collections</th>\n",
       "      <th>User_rating</th>\n",
       "      <th>Critic_rating</th>\n",
       "      <th>Rating</th>\n",
       "      <th>Profit</th>\n",
       "    </tr>\n",
       "  </thead>\n",
       "  <tbody>\n",
       "    <tr>\n",
       "      <th>0</th>\n",
       "      <td>1</td>\n",
       "      <td>AAA</td>\n",
       "      <td>Ram</td>\n",
       "      <td>Urdu</td>\n",
       "      <td>120.0</td>\n",
       "      <td>90</td>\n",
       "      <td>80.0</td>\n",
       "      <td>4</td>\n",
       "      <td>7</td>\n",
       "      <td>7.5</td>\n",
       "      <td>-10.0</td>\n",
       "    </tr>\n",
       "    <tr>\n",
       "      <th>1</th>\n",
       "      <td>2</td>\n",
       "      <td>BBB</td>\n",
       "      <td>Eash</td>\n",
       "      <td>Hindi</td>\n",
       "      <td>90.0</td>\n",
       "      <td>65</td>\n",
       "      <td>70.0</td>\n",
       "      <td>6</td>\n",
       "      <td>6</td>\n",
       "      <td>9.0</td>\n",
       "      <td>5.0</td>\n",
       "    </tr>\n",
       "    <tr>\n",
       "      <th>2</th>\n",
       "      <td>3</td>\n",
       "      <td>CCC</td>\n",
       "      <td>Anju</td>\n",
       "      <td>Hindi</td>\n",
       "      <td>125.0</td>\n",
       "      <td>100</td>\n",
       "      <td>150.0</td>\n",
       "      <td>9</td>\n",
       "      <td>8</td>\n",
       "      <td>13.0</td>\n",
       "      <td>50.0</td>\n",
       "    </tr>\n",
       "    <tr>\n",
       "      <th>3</th>\n",
       "      <td>4</td>\n",
       "      <td>DDD</td>\n",
       "      <td>Jay</td>\n",
       "      <td>Hindi</td>\n",
       "      <td>150.0</td>\n",
       "      <td>85</td>\n",
       "      <td>85.0</td>\n",
       "      <td>6</td>\n",
       "      <td>5</td>\n",
       "      <td>8.5</td>\n",
       "      <td>0.0</td>\n",
       "    </tr>\n",
       "    <tr>\n",
       "      <th>4</th>\n",
       "      <td>5</td>\n",
       "      <td>EEE</td>\n",
       "      <td>Eash</td>\n",
       "      <td>Hindi</td>\n",
       "      <td>90.0</td>\n",
       "      <td>60</td>\n",
       "      <td>40.0</td>\n",
       "      <td>7</td>\n",
       "      <td>5</td>\n",
       "      <td>9.5</td>\n",
       "      <td>-20.0</td>\n",
       "    </tr>\n",
       "    <tr>\n",
       "      <th>5</th>\n",
       "      <td>6</td>\n",
       "      <td>FFF</td>\n",
       "      <td>Suraj</td>\n",
       "      <td>French</td>\n",
       "      <td>100.0</td>\n",
       "      <td>115</td>\n",
       "      <td>120.0</td>\n",
       "      <td>8</td>\n",
       "      <td>6</td>\n",
       "      <td>11.0</td>\n",
       "      <td>5.0</td>\n",
       "    </tr>\n",
       "    <tr>\n",
       "      <th>6</th>\n",
       "      <td>7</td>\n",
       "      <td>GGG</td>\n",
       "      <td>Anju</td>\n",
       "      <td>French</td>\n",
       "      <td>90.0</td>\n",
       "      <td>80</td>\n",
       "      <td>81.0</td>\n",
       "      <td>5</td>\n",
       "      <td>5</td>\n",
       "      <td>7.5</td>\n",
       "      <td>1.0</td>\n",
       "    </tr>\n",
       "    <tr>\n",
       "      <th>7</th>\n",
       "      <td>8</td>\n",
       "      <td>HHH</td>\n",
       "      <td>Ram</td>\n",
       "      <td>French</td>\n",
       "      <td>115.0</td>\n",
       "      <td>50</td>\n",
       "      <td>40.0</td>\n",
       "      <td>3</td>\n",
       "      <td>4</td>\n",
       "      <td>5.0</td>\n",
       "      <td>-10.0</td>\n",
       "    </tr>\n",
       "    <tr>\n",
       "      <th>8</th>\n",
       "      <td>9</td>\n",
       "      <td>JJJ</td>\n",
       "      <td>Anju</td>\n",
       "      <td>French</td>\n",
       "      <td>120.0</td>\n",
       "      <td>92</td>\n",
       "      <td>75.0</td>\n",
       "      <td>3</td>\n",
       "      <td>6</td>\n",
       "      <td>6.0</td>\n",
       "      <td>-17.0</td>\n",
       "    </tr>\n",
       "  </tbody>\n",
       "</table>\n",
       "</div>"
      ],
      "text/plain": [
       "   # Movie_title Director_name Language  Length  Budget  Gross_collections  \\\n",
       "0  1         AAA           Ram     Urdu   120.0      90               80.0   \n",
       "1  2         BBB          Eash    Hindi    90.0      65               70.0   \n",
       "2  3         CCC          Anju    Hindi   125.0     100              150.0   \n",
       "3  4         DDD           Jay    Hindi   150.0      85               85.0   \n",
       "4  5         EEE          Eash    Hindi    90.0      60               40.0   \n",
       "5  6         FFF         Suraj   French   100.0     115              120.0   \n",
       "6  7         GGG          Anju   French    90.0      80               81.0   \n",
       "7  8         HHH           Ram   French   115.0      50               40.0   \n",
       "8  9         JJJ          Anju   French   120.0      92               75.0   \n",
       "\n",
       "   User_rating  Critic_rating  Rating  Profit  \n",
       "0            4              7     7.5   -10.0  \n",
       "1            6              6     9.0     5.0  \n",
       "2            9              8    13.0    50.0  \n",
       "3            6              5     8.5     0.0  \n",
       "4            7              5     9.5   -20.0  \n",
       "5            8              6    11.0     5.0  \n",
       "6            5              5     7.5     1.0  \n",
       "7            3              4     5.0   -10.0  \n",
       "8            3              6     6.0   -17.0  "
      ]
     },
     "execution_count": 40,
     "metadata": {},
     "output_type": "execute_result"
    }
   ],
   "source": [
    "df['Profit']=profit\n",
    "df"
   ]
  },
  {
   "cell_type": "code",
   "execution_count": 41,
   "id": "ab91be24",
   "metadata": {},
   "outputs": [
    {
     "data": {
      "text/plain": [
       "0.529666394368622"
      ]
     },
     "execution_count": 41,
     "metadata": {},
     "output_type": "execute_result"
    }
   ],
   "source": [
    "df['Budget'].corr(df['Rating'])# the trends show that as Budget increase there is about 52% chance for better Rating"
   ]
  },
  {
   "cell_type": "code",
   "execution_count": 42,
   "id": "1741f3b6",
   "metadata": {},
   "outputs": [
    {
     "data": {
      "text/plain": [
       "'Anju'"
      ]
     },
     "execution_count": 42,
     "metadata": {},
     "output_type": "execute_result"
    }
   ],
   "source": [
    "(df.groupby(by='Director_name')['Profit'].max()).idxmax()\n"
   ]
  },
  {
   "cell_type": "code",
   "execution_count": 43,
   "id": "0b038ff5",
   "metadata": {},
   "outputs": [
    {
     "data": {
      "text/html": [
       "<div>\n",
       "<style scoped>\n",
       "    .dataframe tbody tr th:only-of-type {\n",
       "        vertical-align: middle;\n",
       "    }\n",
       "\n",
       "    .dataframe tbody tr th {\n",
       "        vertical-align: top;\n",
       "    }\n",
       "\n",
       "    .dataframe thead th {\n",
       "        text-align: right;\n",
       "    }\n",
       "</style>\n",
       "<table border=\"1\" class=\"dataframe\">\n",
       "  <thead>\n",
       "    <tr style=\"text-align: right;\">\n",
       "      <th>Language</th>\n",
       "      <th>French</th>\n",
       "      <th>Hindi</th>\n",
       "      <th>Urdu</th>\n",
       "    </tr>\n",
       "    <tr>\n",
       "      <th>Director_name</th>\n",
       "      <th></th>\n",
       "      <th></th>\n",
       "      <th></th>\n",
       "    </tr>\n",
       "  </thead>\n",
       "  <tbody>\n",
       "    <tr>\n",
       "      <th>Anju</th>\n",
       "      <td>2</td>\n",
       "      <td>1</td>\n",
       "      <td>0</td>\n",
       "    </tr>\n",
       "    <tr>\n",
       "      <th>Eash</th>\n",
       "      <td>0</td>\n",
       "      <td>2</td>\n",
       "      <td>0</td>\n",
       "    </tr>\n",
       "    <tr>\n",
       "      <th>Jay</th>\n",
       "      <td>0</td>\n",
       "      <td>1</td>\n",
       "      <td>0</td>\n",
       "    </tr>\n",
       "    <tr>\n",
       "      <th>Ram</th>\n",
       "      <td>1</td>\n",
       "      <td>0</td>\n",
       "      <td>1</td>\n",
       "    </tr>\n",
       "    <tr>\n",
       "      <th>Suraj</th>\n",
       "      <td>1</td>\n",
       "      <td>0</td>\n",
       "      <td>0</td>\n",
       "    </tr>\n",
       "  </tbody>\n",
       "</table>\n",
       "</div>"
      ],
      "text/plain": [
       "Language       French  Hindi  Urdu\n",
       "Director_name                     \n",
       "Anju                2      1     0\n",
       "Eash                0      2     0\n",
       "Jay                 0      1     0\n",
       "Ram                 1      0     1\n",
       "Suraj               1      0     0"
      ]
     },
     "execution_count": 43,
     "metadata": {},
     "output_type": "execute_result"
    }
   ],
   "source": [
    "pd.crosstab(df['Director_name'],df['Language'])"
   ]
  },
  {
   "cell_type": "markdown",
   "id": "d3082339",
   "metadata": {},
   "source": [
    "# Q4"
   ]
  },
  {
   "cell_type": "markdown",
   "id": "2bac4b08",
   "metadata": {},
   "source": [
    "Q4. Consider a dictionary: \n",
    "dict1 = {Chhetri: 80, Shabbir: 23, Gouramangi: 6, \n",
    "Subrata: 92, Vijayan: 29, Gawli: NULL, Nabi: 7, \n",
    "Renedy: 4, Lalpekhlua: 23, Baichung:41, Surkumar: 2}\n",
    "Write suitable Python command(s) in Pandas library:\n",
    "• Create a Pandas Series for the dictionary dict1 where the key is name of the footballer \n",
    "and the value is the number of goals scored by him. The Series should have the names \n",
    "of the footballers as its index and values as goals scored.\n",
    "• Display the names of Footballers who have scored more than 20 goals.\n",
    "• Due to the good performance of top six footballers, their rankings have increased and \n",
    "the number of goals scored by them need to be increased by 25. Round the resulting \n",
    "value to the nearest integer equal to or more than the computed number of goals. Update \n",
    "the Series to reflect these changes.\n",
    "• Include a 12th man named 'Mondal' in the above Series whose number of goals scored \n",
    "is not known.\n",
    "• Display the list of Footballers whose number of goals scored is NOT NULL.\n",
    "• Due to injury, 'Shabbir' was replaced by 'Sandhu' who number of goals scored is 5. \n",
    "Reflect this change in the Series and display the new Series"
   ]
  },
  {
   "cell_type": "code",
   "execution_count": 44,
   "id": "34103116",
   "metadata": {},
   "outputs": [
    {
     "data": {
      "text/plain": [
       "{'Chhetri': 80,\n",
       " 'Shabbir': 23,\n",
       " 'Gouramangi': 6,\n",
       " 'Subrata': 92,\n",
       " 'Vijayan': 29,\n",
       " 'Gawli': nan,\n",
       " 'Nabi': 7,\n",
       " 'Renedy': 4,\n",
       " 'Lalpekhlua': 23,\n",
       " 'Baichung': 41,\n",
       " 'Surkumar': 2}"
      ]
     },
     "execution_count": 44,
     "metadata": {},
     "output_type": "execute_result"
    }
   ],
   "source": [
    "dict1 = {\"Chhetri\": 80, \"Shabbir\": 23, \"Gouramangi\": 6, \"Subrata\": 92, \"Vijayan\": 29, \"Gawli\": np.nan, 'Nabi': 7, 'Renedy': 4, 'Lalpekhlua': 23, 'Baichung':41, 'Surkumar': 2} \n",
    "dict1"
   ]
  },
  {
   "cell_type": "code",
   "execution_count": 45,
   "id": "fc6a1640",
   "metadata": {},
   "outputs": [
    {
     "data": {
      "text/plain": [
       "Chhetri       80.0\n",
       "Shabbir       23.0\n",
       "Gouramangi     6.0\n",
       "Subrata       92.0\n",
       "Vijayan       29.0\n",
       "Gawli          NaN\n",
       "Nabi           7.0\n",
       "Renedy         4.0\n",
       "Lalpekhlua    23.0\n",
       "Baichung      41.0\n",
       "Surkumar       2.0\n",
       "dtype: float64"
      ]
     },
     "execution_count": 45,
     "metadata": {},
     "output_type": "execute_result"
    }
   ],
   "source": [
    "footballer_goal=pd.Series(dict1)\n",
    "footballer_goal"
   ]
  },
  {
   "cell_type": "code",
   "execution_count": 46,
   "id": "ffb0c1a2",
   "metadata": {},
   "outputs": [
    {
     "data": {
      "text/plain": [
       "Chhetri       80.0\n",
       "Shabbir       23.0\n",
       "Subrata       92.0\n",
       "Vijayan       29.0\n",
       "Lalpekhlua    23.0\n",
       "Baichung      41.0\n",
       "dtype: float64"
      ]
     },
     "execution_count": 46,
     "metadata": {},
     "output_type": "execute_result"
    }
   ],
   "source": [
    "footballer_goal[footballer_goal>20]"
   ]
  },
  {
   "cell_type": "code",
   "execution_count": 47,
   "id": "132786a4",
   "metadata": {},
   "outputs": [
    {
     "data": {
      "text/plain": [
       "Chhetri       100.0\n",
       "Shabbir        29.0\n",
       "Gouramangi      6.0\n",
       "Subrata       115.0\n",
       "Vijayan        37.0\n",
       "Gawli           NaN\n",
       "Nabi            7.0\n",
       "Renedy          4.0\n",
       "Lalpekhlua     29.0\n",
       "Baichung       52.0\n",
       "Surkumar        2.0\n",
       "dtype: float64"
      ]
     },
     "execution_count": 47,
     "metadata": {},
     "output_type": "execute_result"
    }
   ],
   "source": [
    "top_six=np.ceil(footballer_goal[footballer_goal>20]*1.25)\n",
    "footballer_goal[top_six.index]=top_six\n",
    "footballer_goal"
   ]
  },
  {
   "cell_type": "code",
   "execution_count": 48,
   "id": "7305ab4d",
   "metadata": {},
   "outputs": [
    {
     "data": {
      "text/plain": [
       "Chhetri       100.0\n",
       "Shabbir        29.0\n",
       "Gouramangi      6.0\n",
       "Subrata       115.0\n",
       "Vijayan        37.0\n",
       "Gawli           NaN\n",
       "Nabi            7.0\n",
       "Renedy          4.0\n",
       "Lalpekhlua     29.0\n",
       "Baichung       52.0\n",
       "Surkumar        2.0\n",
       "Mondal          NaN\n",
       "dtype: float64"
      ]
     },
     "execution_count": 48,
     "metadata": {},
     "output_type": "execute_result"
    }
   ],
   "source": [
    "footballer_goal['Mondal']=np.nan\n",
    "footballer_goal"
   ]
  },
  {
   "cell_type": "code",
   "execution_count": 49,
   "id": "9226674d",
   "metadata": {},
   "outputs": [
    {
     "data": {
      "text/plain": [
       "Chhetri       100.0\n",
       "Shabbir        29.0\n",
       "Gouramangi      6.0\n",
       "Subrata       115.0\n",
       "Vijayan        37.0\n",
       "Nabi            7.0\n",
       "Renedy          4.0\n",
       "Lalpekhlua     29.0\n",
       "Baichung       52.0\n",
       "Surkumar        2.0\n",
       "dtype: float64"
      ]
     },
     "execution_count": 49,
     "metadata": {},
     "output_type": "execute_result"
    }
   ],
   "source": [
    "footballer_goal[~(np.isnan(footballer_goal))]"
   ]
  },
  {
   "cell_type": "code",
   "execution_count": 50,
   "id": "0a9f5d8b",
   "metadata": {},
   "outputs": [
    {
     "data": {
      "text/plain": [
       "Chhetri       100.0\n",
       "Gouramangi      6.0\n",
       "Subrata       115.0\n",
       "Vijayan        37.0\n",
       "Gawli           NaN\n",
       "Nabi            7.0\n",
       "Renedy          4.0\n",
       "Lalpekhlua     29.0\n",
       "Baichung       52.0\n",
       "Surkumar        2.0\n",
       "Mondal          NaN\n",
       "dtype: float64"
      ]
     },
     "execution_count": 50,
     "metadata": {},
     "output_type": "execute_result"
    }
   ],
   "source": [
    "del footballer_goal['Shabbir']\n",
    "footballer_goal"
   ]
  },
  {
   "cell_type": "code",
   "execution_count": 51,
   "id": "6ae5ea55",
   "metadata": {},
   "outputs": [
    {
     "data": {
      "text/plain": [
       "Chhetri       100.0\n",
       "Gouramangi      6.0\n",
       "Subrata       115.0\n",
       "Vijayan        37.0\n",
       "Gawli           NaN\n",
       "Nabi            7.0\n",
       "Renedy          4.0\n",
       "Lalpekhlua     29.0\n",
       "Baichung       52.0\n",
       "Surkumar        2.0\n",
       "Mondal          NaN\n",
       "Sandhu          5.0\n",
       "dtype: float64"
      ]
     },
     "execution_count": 51,
     "metadata": {},
     "output_type": "execute_result"
    }
   ],
   "source": [
    "footballer_goal['Sandhu']=5\n",
    "footballer_goal"
   ]
  },
  {
   "cell_type": "markdown",
   "id": "f6ea75fc",
   "metadata": {},
   "source": [
    "# Q5"
   ]
  },
  {
   "cell_type": "markdown",
   "id": "1d08b978",
   "metadata": {},
   "source": [
    "Q5. The first few rows of the standard iris dataset in the sklearn library are given below:"
   ]
  },
  {
   "cell_type": "markdown",
   "id": "1c7d1b4e",
   "metadata": {},
   "source": [
    "• Import the appropriate Python libraries to load the dataset. Create a Pandas DataFrame \n",
    "named iris having all the columns in the dataset. \n",
    "• Use an appropriate command to display a summary of the vital statistics of all numerical \n",
    "and categorical attributes in iris.\n",
    "• What is the role of pre-processing in data analysis? Discuss how will you choose \n",
    "between (a) deleting the rows containing missing values or (b) replacing the missing \n",
    "values in a column with the mean or (c) replacing them with the mode of the column.\n",
    "• Give a Pandas command to convert the categorical attribute, species into dummy \n",
    "variables. Display all the columns of the DataFrame including the dummy variables.\n",
    "Give a command to drop the column species from the DataFrame.\n",
    "• Draw a scatterplot between the columns sepal length and petal length for the species \n",
    "setosa in iris. \n",
    "• Create 5 equal length bins for each of the two columns sepal length and sepal width. \n",
    "Draw two histograms, one each for the values of sepal length and sepal width in these \n",
    "bins in a single figure. Save this image in a file on the hard disk."
   ]
  },
  {
   "cell_type": "code",
   "execution_count": 52,
   "id": "a1a65aee",
   "metadata": {},
   "outputs": [
    {
     "ename": "ModuleNotFoundError",
     "evalue": "No module named 'sklearn'",
     "output_type": "error",
     "traceback": [
      "\u001b[0;31m---------------------------------------------------------------------------\u001b[0m",
      "\u001b[0;31mModuleNotFoundError\u001b[0m                       Traceback (most recent call last)",
      "Cell \u001b[0;32mIn [52], line 1\u001b[0m\n\u001b[0;32m----> 1\u001b[0m \u001b[38;5;28;01mfrom\u001b[39;00m \u001b[38;5;21;01msklearn\u001b[39;00m \u001b[38;5;28;01mimport\u001b[39;00m datasets\n\u001b[1;32m      2\u001b[0m ir \u001b[38;5;241m=\u001b[39m datasets\u001b[38;5;241m.\u001b[39mload_iris()\n\u001b[1;32m      3\u001b[0m iris \u001b[38;5;241m=\u001b[39m pd\u001b[38;5;241m.\u001b[39mDataFrame(data\u001b[38;5;241m=\u001b[39mir\u001b[38;5;241m.\u001b[39mdata, columns\u001b[38;5;241m=\u001b[39mir\u001b[38;5;241m.\u001b[39mfeature_names)\n",
      "\u001b[0;31mModuleNotFoundError\u001b[0m: No module named 'sklearn'"
     ]
    }
   ],
   "source": [
    "from sklearn import datasets\n",
    "ir = datasets.load_iris()\n",
    "iris = pd.DataFrame(data=ir.data, columns=ir.feature_names)\n",
    "iris[\"Species\"] = ir.target\n",
    "iris.replace({\"Species\": {0: \"Iris-setosa\",1:'Iris-versicolor',2:'Iris-virginica'}},inplace=True)\n",
    "iris"
   ]
  },
  {
   "cell_type": "code",
   "execution_count": 53,
   "id": "f3b8650f",
   "metadata": {},
   "outputs": [
    {
     "ename": "NameError",
     "evalue": "name 'iris' is not defined",
     "output_type": "error",
     "traceback": [
      "\u001b[0;31m---------------------------------------------------------------------------\u001b[0m",
      "\u001b[0;31mNameError\u001b[0m                                 Traceback (most recent call last)",
      "Cell \u001b[0;32mIn [53], line 1\u001b[0m\n\u001b[0;32m----> 1\u001b[0m \u001b[43miris\u001b[49m\u001b[38;5;241m.\u001b[39mdescribe()\n",
      "\u001b[0;31mNameError\u001b[0m: name 'iris' is not defined"
     ]
    }
   ],
   "source": [
    "iris.describe()"
   ]
  },
  {
   "cell_type": "code",
   "execution_count": 54,
   "id": "63bc6e2d",
   "metadata": {},
   "outputs": [
    {
     "ename": "NameError",
     "evalue": "name 'iris' is not defined",
     "output_type": "error",
     "traceback": [
      "\u001b[0;31m---------------------------------------------------------------------------\u001b[0m",
      "\u001b[0;31mNameError\u001b[0m                                 Traceback (most recent call last)",
      "Cell \u001b[0;32mIn [54], line 1\u001b[0m\n\u001b[0;32m----> 1\u001b[0m \u001b[43miris\u001b[49m[\u001b[38;5;124m'\u001b[39m\u001b[38;5;124mSpecies\u001b[39m\u001b[38;5;124m'\u001b[39m]\u001b[38;5;241m.\u001b[39mdescribe()\n",
      "\u001b[0;31mNameError\u001b[0m: name 'iris' is not defined"
     ]
    }
   ],
   "source": [
    "iris['Species'].describe()"
   ]
  },
  {
   "cell_type": "code",
   "execution_count": 55,
   "id": "f9c04653",
   "metadata": {},
   "outputs": [
    {
     "ename": "NameError",
     "evalue": "name 'iris' is not defined",
     "output_type": "error",
     "traceback": [
      "\u001b[0;31m---------------------------------------------------------------------------\u001b[0m",
      "\u001b[0;31mNameError\u001b[0m                                 Traceback (most recent call last)",
      "Cell \u001b[0;32mIn [55], line 1\u001b[0m\n\u001b[0;32m----> 1\u001b[0m pd\u001b[38;5;241m.\u001b[39mget_dummies(\u001b[43miris\u001b[49m,columns\u001b[38;5;241m=\u001b[39m[\u001b[38;5;124m'\u001b[39m\u001b[38;5;124mSpecies\u001b[39m\u001b[38;5;124m'\u001b[39m])\n",
      "\u001b[0;31mNameError\u001b[0m: name 'iris' is not defined"
     ]
    }
   ],
   "source": [
    "pd.get_dummies(iris,columns=['Species'])"
   ]
  },
  {
   "cell_type": "code",
   "execution_count": 56,
   "id": "65777013",
   "metadata": {},
   "outputs": [
    {
     "ename": "NameError",
     "evalue": "name 'iris' is not defined",
     "output_type": "error",
     "traceback": [
      "\u001b[0;31m---------------------------------------------------------------------------\u001b[0m",
      "\u001b[0;31mNameError\u001b[0m                                 Traceback (most recent call last)",
      "Cell \u001b[0;32mIn [56], line 1\u001b[0m\n\u001b[0;32m----> 1\u001b[0m \u001b[38;5;28;01mdel\u001b[39;00m \u001b[43miris\u001b[49m[\u001b[38;5;124m'\u001b[39m\u001b[38;5;124mSpecies\u001b[39m\u001b[38;5;124m'\u001b[39m]\n\u001b[1;32m      2\u001b[0m iris\n",
      "\u001b[0;31mNameError\u001b[0m: name 'iris' is not defined"
     ]
    }
   ],
   "source": [
    "del iris['Species']\n",
    "iris"
   ]
  },
  {
   "cell_type": "code",
   "execution_count": 57,
   "id": "7700cfac",
   "metadata": {},
   "outputs": [
    {
     "ename": "KeyError",
     "evalue": "'Species'",
     "output_type": "error",
     "traceback": [
      "\u001b[0;31m---------------------------------------------------------------------------\u001b[0m",
      "\u001b[0;31mKeyError\u001b[0m                                  Traceback (most recent call last)",
      "File \u001b[0;32m~/.local/lib/python3.10/site-packages/pandas/core/indexes/base.py:3803\u001b[0m, in \u001b[0;36mIndex.get_loc\u001b[0;34m(self, key, method, tolerance)\u001b[0m\n\u001b[1;32m   3802\u001b[0m \u001b[38;5;28;01mtry\u001b[39;00m:\n\u001b[0;32m-> 3803\u001b[0m     \u001b[38;5;28;01mreturn\u001b[39;00m \u001b[38;5;28;43mself\u001b[39;49m\u001b[38;5;241;43m.\u001b[39;49m\u001b[43m_engine\u001b[49m\u001b[38;5;241;43m.\u001b[39;49m\u001b[43mget_loc\u001b[49m\u001b[43m(\u001b[49m\u001b[43mcasted_key\u001b[49m\u001b[43m)\u001b[49m\n\u001b[1;32m   3804\u001b[0m \u001b[38;5;28;01mexcept\u001b[39;00m \u001b[38;5;167;01mKeyError\u001b[39;00m \u001b[38;5;28;01mas\u001b[39;00m err:\n",
      "File \u001b[0;32m~/.local/lib/python3.10/site-packages/pandas/_libs/index.pyx:138\u001b[0m, in \u001b[0;36mpandas._libs.index.IndexEngine.get_loc\u001b[0;34m()\u001b[0m\n",
      "File \u001b[0;32m~/.local/lib/python3.10/site-packages/pandas/_libs/index.pyx:165\u001b[0m, in \u001b[0;36mpandas._libs.index.IndexEngine.get_loc\u001b[0;34m()\u001b[0m\n",
      "File \u001b[0;32mpandas/_libs/hashtable_class_helper.pxi:5745\u001b[0m, in \u001b[0;36mpandas._libs.hashtable.PyObjectHashTable.get_item\u001b[0;34m()\u001b[0m\n",
      "File \u001b[0;32mpandas/_libs/hashtable_class_helper.pxi:5753\u001b[0m, in \u001b[0;36mpandas._libs.hashtable.PyObjectHashTable.get_item\u001b[0;34m()\u001b[0m\n",
      "\u001b[0;31mKeyError\u001b[0m: 'Species'",
      "\nThe above exception was the direct cause of the following exception:\n",
      "\u001b[0;31mKeyError\u001b[0m                                  Traceback (most recent call last)",
      "Cell \u001b[0;32mIn [57], line 1\u001b[0m\n\u001b[0;32m----> 1\u001b[0m iris_setosa\u001b[38;5;241m=\u001b[39mdf[\u001b[43mdf\u001b[49m\u001b[43m[\u001b[49m\u001b[38;5;124;43m'\u001b[39;49m\u001b[38;5;124;43mSpecies\u001b[39;49m\u001b[38;5;124;43m'\u001b[39;49m\u001b[43m]\u001b[49m\u001b[38;5;241m==\u001b[39m\u001b[38;5;124m'\u001b[39m\u001b[38;5;124mIris-setosa\u001b[39m\u001b[38;5;124m'\u001b[39m]\n\u001b[1;32m      2\u001b[0m plt\u001b[38;5;241m.\u001b[39mscatter(iris_setosa[\u001b[38;5;124m\"\u001b[39m\u001b[38;5;124msepal length (cm)\u001b[39m\u001b[38;5;124m\"\u001b[39m],iris_setosa[\u001b[38;5;124m'\u001b[39m\u001b[38;5;124mpetal length (cm)\u001b[39m\u001b[38;5;124m'\u001b[39m])\n\u001b[1;32m      3\u001b[0m plt\u001b[38;5;241m.\u001b[39mxlabel(\u001b[38;5;124m'\u001b[39m\u001b[38;5;124msepal length\u001b[39m\u001b[38;5;124m'\u001b[39m)\n",
      "File \u001b[0;32m~/.local/lib/python3.10/site-packages/pandas/core/frame.py:3804\u001b[0m, in \u001b[0;36mDataFrame.__getitem__\u001b[0;34m(self, key)\u001b[0m\n\u001b[1;32m   3802\u001b[0m \u001b[38;5;28;01mif\u001b[39;00m \u001b[38;5;28mself\u001b[39m\u001b[38;5;241m.\u001b[39mcolumns\u001b[38;5;241m.\u001b[39mnlevels \u001b[38;5;241m>\u001b[39m \u001b[38;5;241m1\u001b[39m:\n\u001b[1;32m   3803\u001b[0m     \u001b[38;5;28;01mreturn\u001b[39;00m \u001b[38;5;28mself\u001b[39m\u001b[38;5;241m.\u001b[39m_getitem_multilevel(key)\n\u001b[0;32m-> 3804\u001b[0m indexer \u001b[38;5;241m=\u001b[39m \u001b[38;5;28;43mself\u001b[39;49m\u001b[38;5;241;43m.\u001b[39;49m\u001b[43mcolumns\u001b[49m\u001b[38;5;241;43m.\u001b[39;49m\u001b[43mget_loc\u001b[49m\u001b[43m(\u001b[49m\u001b[43mkey\u001b[49m\u001b[43m)\u001b[49m\n\u001b[1;32m   3805\u001b[0m \u001b[38;5;28;01mif\u001b[39;00m is_integer(indexer):\n\u001b[1;32m   3806\u001b[0m     indexer \u001b[38;5;241m=\u001b[39m [indexer]\n",
      "File \u001b[0;32m~/.local/lib/python3.10/site-packages/pandas/core/indexes/base.py:3805\u001b[0m, in \u001b[0;36mIndex.get_loc\u001b[0;34m(self, key, method, tolerance)\u001b[0m\n\u001b[1;32m   3803\u001b[0m     \u001b[38;5;28;01mreturn\u001b[39;00m \u001b[38;5;28mself\u001b[39m\u001b[38;5;241m.\u001b[39m_engine\u001b[38;5;241m.\u001b[39mget_loc(casted_key)\n\u001b[1;32m   3804\u001b[0m \u001b[38;5;28;01mexcept\u001b[39;00m \u001b[38;5;167;01mKeyError\u001b[39;00m \u001b[38;5;28;01mas\u001b[39;00m err:\n\u001b[0;32m-> 3805\u001b[0m     \u001b[38;5;28;01mraise\u001b[39;00m \u001b[38;5;167;01mKeyError\u001b[39;00m(key) \u001b[38;5;28;01mfrom\u001b[39;00m \u001b[38;5;21;01merr\u001b[39;00m\n\u001b[1;32m   3806\u001b[0m \u001b[38;5;28;01mexcept\u001b[39;00m \u001b[38;5;167;01mTypeError\u001b[39;00m:\n\u001b[1;32m   3807\u001b[0m     \u001b[38;5;66;03m# If we have a listlike key, _check_indexing_error will raise\u001b[39;00m\n\u001b[1;32m   3808\u001b[0m     \u001b[38;5;66;03m#  InvalidIndexError. Otherwise we fall through and re-raise\u001b[39;00m\n\u001b[1;32m   3809\u001b[0m     \u001b[38;5;66;03m#  the TypeError.\u001b[39;00m\n\u001b[1;32m   3810\u001b[0m     \u001b[38;5;28mself\u001b[39m\u001b[38;5;241m.\u001b[39m_check_indexing_error(key)\n",
      "\u001b[0;31mKeyError\u001b[0m: 'Species'"
     ]
    }
   ],
   "source": [
    "iris_setosa=df[df['Species']=='Iris-setosa']\n",
    "plt.scatter(iris_setosa[\"sepal length (cm)\"],iris_setosa['petal length (cm)'])\n",
    "plt.xlabel('sepal length')\n",
    "plt.ylabel('petal length')\n",
    "plt.show"
   ]
  },
  {
   "cell_type": "code",
   "execution_count": null,
   "id": "03d63285",
   "metadata": {},
   "outputs": [],
   "source": [
    "plt.hist([iris['sepal length (cm)'],iris['sepal width (cm)']],bins=5,color=['b','g'])\n",
    "plt.savefig('Q5ps.png')"
   ]
  },
  {
   "cell_type": "markdown",
   "id": "a2d1d6b8",
   "metadata": {},
   "source": [
    "# Q6"
   ]
  },
  {
   "cell_type": "markdown",
   "id": "f4e4ac34",
   "metadata": {},
   "source": [
    "• Import the appropriate Python libraries to create a Pandas DataFrame named rubies \n",
    "having the above columns. The columns and rows of the DataFrame should have \n",
    "appropriate names.\n",
    "• Draw box plots for all numerical columns of the dataset in the same chart. Display the \n",
    "median of all numerical attributes in rubies for each type of cut.\n",
    "• Display the per carat average price of all rubies grouped by the two attributes clarity\n",
    "and color.\n",
    "• Normalize all quantitative features in range of [0,1].\n",
    "• Draw word cloud for attribute cut"
   ]
  },
  {
   "cell_type": "code",
   "execution_count": null,
   "id": "e4f6c917",
   "metadata": {},
   "outputs": [],
   "source": [
    "rubies=pd.read_csv('Q6ps.csv',sep=' ')\n",
    "rubies"
   ]
  },
  {
   "cell_type": "code",
   "execution_count": null,
   "id": "6cbab54f",
   "metadata": {},
   "outputs": [],
   "source": [
    "plt.figure(figsize=(17,1))\n",
    "rubies.plot(kind='box')"
   ]
  },
  {
   "cell_type": "code",
   "execution_count": null,
   "id": "c4989148",
   "metadata": {},
   "outputs": [],
   "source": [
    "rubies.groupby(by='cut').median()"
   ]
  },
  {
   "cell_type": "code",
   "execution_count": null,
   "id": "ee555570",
   "metadata": {},
   "outputs": [],
   "source": [
    "rubies.groupby(by=['clarity','color']).mean()['carat']"
   ]
  },
  {
   "cell_type": "code",
   "execution_count": null,
   "id": "6ee47e50",
   "metadata": {},
   "outputs": [],
   "source": [
    "def NormalizeData(data):\n",
    "    return (data - data.min()) / (data.max() - data.min())\n",
    "NormalizeData(rubies.select_dtypes(include=np.number))"
   ]
  },
  {
   "cell_type": "code",
   "execution_count": null,
   "id": "b62f09a0",
   "metadata": {},
   "outputs": [],
   "source": [
    "rubies['carat'].value_counts()#word cloud is not in syllabus, so just shown value counts of each value."
   ]
  },
  {
   "cell_type": "code",
   "execution_count": null,
   "id": "793498f1",
   "metadata": {},
   "outputs": [],
   "source": []
  },
  {
   "cell_type": "code",
   "execution_count": null,
   "id": "a0a0285e",
   "metadata": {},
   "outputs": [],
   "source": []
  },
  {
   "cell_type": "code",
   "execution_count": null,
   "id": "83fe7472",
   "metadata": {},
   "outputs": [],
   "source": []
  }
 ],
 "metadata": {
  "kernelspec": {
   "display_name": "Python 3 (ipykernel)",
   "language": "python",
   "name": "python3"
  },
  "language_info": {
   "codemirror_mode": {
    "name": "ipython",
    "version": 3
   },
   "file_extension": ".py",
   "mimetype": "text/x-python",
   "name": "python",
   "nbconvert_exporter": "python",
   "pygments_lexer": "ipython3",
   "version": "3.10.6"
  },
  "vscode": {
   "interpreter": {
    "hash": "916dbcbb3f70747c44a77c7bcd40155683ae19c65e1c03b4aa3499c5328201f1"
   }
  }
 },
 "nbformat": 4,
 "nbformat_minor": 5
}
