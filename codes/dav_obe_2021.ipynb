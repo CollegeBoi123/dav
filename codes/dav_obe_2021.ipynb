{
 "cells": [
  {
   "cell_type": "code",
   "execution_count": 3,
   "id": "90b5f240",
   "metadata": {},
   "outputs": [],
   "source": [
    "import numpy as np\n",
    "import pandas as pd\n",
    "import matplotlib.pyplot as plt"
   ]
  },
  {
   "cell_type": "markdown",
   "id": "2339e286",
   "metadata": {},
   "source": [
    "# Q1"
   ]
  },
  {
   "cell_type": "code",
   "execution_count": 4,
   "id": "a4d83f59",
   "metadata": {},
   "outputs": [],
   "source": [
    "List1 = ['Good Morning', 'Good Evening', 'Hello', 'Good afternoon', 'Greetings',\n",
    "'Good Morning', 'Nice to see you']"
   ]
  },
  {
   "cell_type": "markdown",
   "id": "5acee590",
   "metadata": {},
   "source": [
    "a) Use list comprehension to store unique strings with multi-words of ‘List1’\n",
    "to another list named ‘Newlist’. Also, write an anonymous function to sort\n",
    "the given list ‘List1’ on the last character of each string."
   ]
  },
  {
   "cell_type": "code",
   "execution_count": 5,
   "id": "b802231c",
   "metadata": {},
   "outputs": [],
   "source": [
    "Newlist=[]\n",
    "Newlist=[x for x in List1 if ' ' in x and x  not in Newlist]\n"
   ]
  },
  {
   "cell_type": "code",
   "execution_count": 6,
   "id": "853e9a78",
   "metadata": {},
   "outputs": [
    {
     "data": {
      "text/plain": [
       "['Good Morning',\n",
       " 'Good Evening',\n",
       " 'Good afternoon',\n",
       " 'Good Morning',\n",
       " 'Nice to see you']"
      ]
     },
     "execution_count": 6,
     "metadata": {},
     "output_type": "execute_result"
    }
   ],
   "source": [
    "Newlist"
   ]
  },
  {
   "cell_type": "code",
   "execution_count": 7,
   "id": "4f55bfef",
   "metadata": {},
   "outputs": [
    {
     "data": {
      "text/plain": [
       "['Good Morning',\n",
       " 'Good Evening',\n",
       " 'Good Morning',\n",
       " 'Good afternoon',\n",
       " 'Hello',\n",
       " 'Greetings',\n",
       " 'Nice to see you']"
      ]
     },
     "execution_count": 7,
     "metadata": {},
     "output_type": "execute_result"
    }
   ],
   "source": [
    "List1.sort(key=lambda x:x[-1])\n",
    "List1"
   ]
  },
  {
   "cell_type": "markdown",
   "id": "32cc5767",
   "metadata": {},
   "source": [
    "b) Using ‘List1’, generate the following dictionary ‘Anydict’ where key is the\n",
    "count of words in a string and value is the list of strings having that count.\n",
    "Anydict={1:[ 'Greetings','Hello'], 2: ['Good Morning', ' Good Evening',\n",
    "'Good afternoon', 'Good Morning'], 4: ['Nice to see you']}.\n",
    "Create a data series ‘Ds1’ using the created dictionary ‘Anydict’."
   ]
  },
  {
   "cell_type": "code",
   "execution_count": 8,
   "id": "6cb4045e",
   "metadata": {},
   "outputs": [
    {
     "data": {
      "text/plain": [
       "{2: ['Good Morning', 'Good Evening', 'Good Morning', 'Good afternoon'],\n",
       " 1: ['Hello', 'Greetings'],\n",
       " 4: ['Nice to see you']}"
      ]
     },
     "execution_count": 8,
     "metadata": {},
     "output_type": "execute_result"
    }
   ],
   "source": [
    "Anydict={}\n",
    "for x in List1:\n",
    "    try:\n",
    "        Anydict[x.count(\" \")+1].append(x)\n",
    "    except:\n",
    "        Anydict[x.count(\" \")+1]=[]\n",
    "        Anydict[x.count(\" \")+1].append(x)\n",
    "Anydict"
   ]
  },
  {
   "cell_type": "code",
   "execution_count": 9,
   "id": "e9d723c2",
   "metadata": {},
   "outputs": [],
   "source": [
    "Ds1=pd.Series(Anydict)"
   ]
  },
  {
   "cell_type": "code",
   "execution_count": 10,
   "id": "45ff8385",
   "metadata": {},
   "outputs": [
    {
     "data": {
      "text/plain": [
       "2    [Good Morning, Good Evening, Good Morning, Goo...\n",
       "1                                   [Hello, Greetings]\n",
       "4                                    [Nice to see you]\n",
       "dtype: object"
      ]
     },
     "execution_count": 10,
     "metadata": {},
     "output_type": "execute_result"
    }
   ],
   "source": [
    "Ds1"
   ]
  },
  {
   "cell_type": "markdown",
   "id": "4080d51d",
   "metadata": {},
   "source": [
    "c) Draw a bar plot to compare the frequency of strings with equal word\n",
    "counts in ‘List1’. For example, the frequency of strings with two words in\n",
    "the given list ‘List1’ is 4. Give proper names to both axes"
   ]
  },
  {
   "cell_type": "code",
   "execution_count": 11,
   "id": "a2230a05",
   "metadata": {},
   "outputs": [
    {
     "data": {
      "image/png": "[encoded data removed]",
      "text/plain": [
       "<Figure size 640x480 with 1 Axes>"
      ]
     },
     "metadata": {},
     "output_type": "display_data"
    }
   ],
   "source": [
    "plt.bar(Anydict.keys(),[len(x)for x in Anydict.values()])\n",
    "plt.title(\"Comparison of frequency of strings with equal word counts\")\n",
    "plt.xlabel(\"Number of words\")\n",
    "plt.ylabel(\"Frequency\")\n",
    "plt.show()"
   ]
  },
  {
   "cell_type": "markdown",
   "id": "7e813aa1",
   "metadata": {},
   "source": [
    "# Q2"
   ]
  },
  {
   "cell_type": "code",
   "execution_count": 12,
   "id": "5712f071",
   "metadata": {},
   "outputs": [
    {
     "data": {
      "text/html": [
       "<div>\n",
       "<style scoped>\n",
       "    .dataframe tbody tr th:only-of-type {\n",
       "        vertical-align: middle;\n",
       "    }\n",
       "\n",
       "    .dataframe tbody tr th {\n",
       "        vertical-align: top;\n",
       "    }\n",
       "\n",
       "    .dataframe thead th {\n",
       "        text-align: right;\n",
       "    }\n",
       "</style>\n",
       "<table border=\"1\" class=\"dataframe\">\n",
       "  <thead>\n",
       "    <tr style=\"text-align: right;\">\n",
       "      <th></th>\n",
       "      <th>ID</th>\n",
       "      <th>Name</th>\n",
       "      <th>Diet</th>\n",
       "      <th>Pulse</th>\n",
       "      <th>Time(min)</th>\n",
       "      <th>Kind</th>\n",
       "    </tr>\n",
       "  </thead>\n",
       "  <tbody>\n",
       "    <tr>\n",
       "      <th>0</th>\n",
       "      <td>0</td>\n",
       "      <td>A</td>\n",
       "      <td>low fat</td>\n",
       "      <td>85</td>\n",
       "      <td>40</td>\n",
       "      <td>walking</td>\n",
       "    </tr>\n",
       "    <tr>\n",
       "      <th>1</th>\n",
       "      <td>1</td>\n",
       "      <td>A</td>\n",
       "      <td>low fat</td>\n",
       "      <td>85</td>\n",
       "      <td>45</td>\n",
       "      <td>walking</td>\n",
       "    </tr>\n",
       "    <tr>\n",
       "      <th>2</th>\n",
       "      <td>2</td>\n",
       "      <td>A</td>\n",
       "      <td>no fat</td>\n",
       "      <td>88</td>\n",
       "      <td>30</td>\n",
       "      <td>running</td>\n",
       "    </tr>\n",
       "    <tr>\n",
       "      <th>3</th>\n",
       "      <td>3</td>\n",
       "      <td>B</td>\n",
       "      <td>no fat</td>\n",
       "      <td>90</td>\n",
       "      <td>10</td>\n",
       "      <td>walking</td>\n",
       "    </tr>\n",
       "    <tr>\n",
       "      <th>4</th>\n",
       "      <td>4</td>\n",
       "      <td>B</td>\n",
       "      <td>no fat</td>\n",
       "      <td>92</td>\n",
       "      <td>15</td>\n",
       "      <td>rest</td>\n",
       "    </tr>\n",
       "    <tr>\n",
       "      <th>5</th>\n",
       "      <td>5</td>\n",
       "      <td>B</td>\n",
       "      <td>low fat</td>\n",
       "      <td>93</td>\n",
       "      <td>30</td>\n",
       "      <td>rest</td>\n",
       "    </tr>\n",
       "    <tr>\n",
       "      <th>6</th>\n",
       "      <td>6</td>\n",
       "      <td>C</td>\n",
       "      <td>low fat</td>\n",
       "      <td>97</td>\n",
       "      <td>15</td>\n",
       "      <td>rest</td>\n",
       "    </tr>\n",
       "    <tr>\n",
       "      <th>7</th>\n",
       "      <td>7</td>\n",
       "      <td>C</td>\n",
       "      <td>low fat</td>\n",
       "      <td>97</td>\n",
       "      <td>15</td>\n",
       "      <td>rest</td>\n",
       "    </tr>\n",
       "    <tr>\n",
       "      <th>8</th>\n",
       "      <td>8</td>\n",
       "      <td>C</td>\n",
       "      <td>low fat</td>\n",
       "      <td>94</td>\n",
       "      <td>30</td>\n",
       "      <td>walking</td>\n",
       "    </tr>\n",
       "    <tr>\n",
       "      <th>9</th>\n",
       "      <td>9</td>\n",
       "      <td>D</td>\n",
       "      <td>low fat</td>\n",
       "      <td>80</td>\n",
       "      <td>10</td>\n",
       "      <td>walking</td>\n",
       "    </tr>\n",
       "    <tr>\n",
       "      <th>10</th>\n",
       "      <td>10</td>\n",
       "      <td>D</td>\n",
       "      <td>low fat</td>\n",
       "      <td>82</td>\n",
       "      <td>15</td>\n",
       "      <td>rest</td>\n",
       "    </tr>\n",
       "    <tr>\n",
       "      <th>11</th>\n",
       "      <td>11</td>\n",
       "      <td>D</td>\n",
       "      <td>low fat</td>\n",
       "      <td>83</td>\n",
       "      <td>30</td>\n",
       "      <td>rest</td>\n",
       "    </tr>\n",
       "    <tr>\n",
       "      <th>12</th>\n",
       "      <td>12</td>\n",
       "      <td>E</td>\n",
       "      <td>no fat</td>\n",
       "      <td>91</td>\n",
       "      <td>10</td>\n",
       "      <td>rest</td>\n",
       "    </tr>\n",
       "    <tr>\n",
       "      <th>13</th>\n",
       "      <td>13</td>\n",
       "      <td>E</td>\n",
       "      <td>low fat</td>\n",
       "      <td>92</td>\n",
       "      <td>15</td>\n",
       "      <td>running</td>\n",
       "    </tr>\n",
       "    <tr>\n",
       "      <th>14</th>\n",
       "      <td>14</td>\n",
       "      <td>E</td>\n",
       "      <td>low fat</td>\n",
       "      <td>91</td>\n",
       "      <td>30</td>\n",
       "      <td>running</td>\n",
       "    </tr>\n",
       "  </tbody>\n",
       "</table>\n",
       "</div>"
      ],
      "text/plain": [
       "    ID Name     Diet  Pulse  Time(min)     Kind\n",
       "0    0    A  low fat     85         40  walking\n",
       "1    1    A  low fat     85         45  walking\n",
       "2    2    A   no fat     88         30  running\n",
       "3    3    B   no fat     90         10  walking\n",
       "4    4    B   no fat     92         15     rest\n",
       "5    5    B  low fat     93         30     rest\n",
       "6    6    C  low fat     97         15     rest\n",
       "7    7    C  low fat     97         15     rest\n",
       "8    8    C  low fat     94         30  walking\n",
       "9    9    D  low fat     80         10  walking\n",
       "10  10    D  low fat     82         15     rest\n",
       "11  11    D  low fat     83         30     rest\n",
       "12  12    E   no fat     91         10     rest\n",
       "13  13    E  low fat     92         15  running\n",
       "14  14    E  low fat     91         30  running"
      ]
     },
     "execution_count": 12,
     "metadata": {},
     "output_type": "execute_result"
    }
   ],
   "source": [
    "Ex={'ID':np.arange(15),\n",
    "          'Name':['A','A','A','B','B','B','C','C','C','D','D','D','E','E','E'],\n",
    "         'Diet':['low fat','low fat','no fat','no fat','no fat','low fat','low fat','low fat','low fat'\n",
    "                 ,'low fat','low fat','low fat','no fat','low fat','low fat'],\n",
    "          'Pulse':[85,85,88,90,92,93,97,97,94,80,82,83,91,92,91],\n",
    "          'Time(min)':[40,45,30,10,15,30,15,15,30,10,15,30,10,15,30],\n",
    "          'Kind':['walking','walking','running','walking','rest','rest','rest','rest','walking','walking','rest','rest','rest',\n",
    "                 'running','running']\n",
    "         }\n",
    "Exercise=pd.DataFrame(Ex)\n",
    "Exercise"
   ]
  },
  {
   "cell_type": "markdown",
   "id": "1f93645d",
   "metadata": {},
   "source": [
    "a) Create a new DataFrame SELECTED having a hierarchical index on\n",
    "columns “Name” and “Diet”. Then, find the maximum pulse rate for each\n",
    "individual in the SELECTED DataFrame."
   ]
  },
  {
   "cell_type": "code",
   "execution_count": 13,
   "id": "e5f461d7",
   "metadata": {},
   "outputs": [
    {
     "data": {
      "text/html": [
       "<div>\n",
       "<style scoped>\n",
       "    .dataframe tbody tr th:only-of-type {\n",
       "        vertical-align: middle;\n",
       "    }\n",
       "\n",
       "    .dataframe tbody tr th {\n",
       "        vertical-align: top;\n",
       "    }\n",
       "\n",
       "    .dataframe thead th {\n",
       "        text-align: right;\n",
       "    }\n",
       "</style>\n",
       "<table border=\"1\" class=\"dataframe\">\n",
       "  <thead>\n",
       "    <tr style=\"text-align: right;\">\n",
       "      <th></th>\n",
       "      <th>ID</th>\n",
       "      <th>Name</th>\n",
       "      <th>Diet</th>\n",
       "      <th>Pulse</th>\n",
       "      <th>Time(min)</th>\n",
       "      <th>Kind</th>\n",
       "    </tr>\n",
       "  </thead>\n",
       "  <tbody>\n",
       "    <tr>\n",
       "      <th>0</th>\n",
       "      <td>0</td>\n",
       "      <td>A</td>\n",
       "      <td>low fat</td>\n",
       "      <td>85</td>\n",
       "      <td>40</td>\n",
       "      <td>walking</td>\n",
       "    </tr>\n",
       "    <tr>\n",
       "      <th>1</th>\n",
       "      <td>1</td>\n",
       "      <td>A</td>\n",
       "      <td>low fat</td>\n",
       "      <td>85</td>\n",
       "      <td>45</td>\n",
       "      <td>walking</td>\n",
       "    </tr>\n",
       "    <tr>\n",
       "      <th>2</th>\n",
       "      <td>2</td>\n",
       "      <td>A</td>\n",
       "      <td>no fat</td>\n",
       "      <td>88</td>\n",
       "      <td>30</td>\n",
       "      <td>running</td>\n",
       "    </tr>\n",
       "    <tr>\n",
       "      <th>3</th>\n",
       "      <td>3</td>\n",
       "      <td>B</td>\n",
       "      <td>no fat</td>\n",
       "      <td>90</td>\n",
       "      <td>10</td>\n",
       "      <td>walking</td>\n",
       "    </tr>\n",
       "    <tr>\n",
       "      <th>4</th>\n",
       "      <td>4</td>\n",
       "      <td>B</td>\n",
       "      <td>no fat</td>\n",
       "      <td>92</td>\n",
       "      <td>15</td>\n",
       "      <td>rest</td>\n",
       "    </tr>\n",
       "    <tr>\n",
       "      <th>5</th>\n",
       "      <td>5</td>\n",
       "      <td>B</td>\n",
       "      <td>low fat</td>\n",
       "      <td>93</td>\n",
       "      <td>30</td>\n",
       "      <td>rest</td>\n",
       "    </tr>\n",
       "    <tr>\n",
       "      <th>6</th>\n",
       "      <td>6</td>\n",
       "      <td>C</td>\n",
       "      <td>low fat</td>\n",
       "      <td>97</td>\n",
       "      <td>15</td>\n",
       "      <td>rest</td>\n",
       "    </tr>\n",
       "    <tr>\n",
       "      <th>7</th>\n",
       "      <td>7</td>\n",
       "      <td>C</td>\n",
       "      <td>low fat</td>\n",
       "      <td>97</td>\n",
       "      <td>15</td>\n",
       "      <td>rest</td>\n",
       "    </tr>\n",
       "    <tr>\n",
       "      <th>8</th>\n",
       "      <td>8</td>\n",
       "      <td>C</td>\n",
       "      <td>low fat</td>\n",
       "      <td>94</td>\n",
       "      <td>30</td>\n",
       "      <td>walking</td>\n",
       "    </tr>\n",
       "    <tr>\n",
       "      <th>9</th>\n",
       "      <td>9</td>\n",
       "      <td>D</td>\n",
       "      <td>low fat</td>\n",
       "      <td>80</td>\n",
       "      <td>10</td>\n",
       "      <td>walking</td>\n",
       "    </tr>\n",
       "    <tr>\n",
       "      <th>10</th>\n",
       "      <td>10</td>\n",
       "      <td>D</td>\n",
       "      <td>low fat</td>\n",
       "      <td>82</td>\n",
       "      <td>15</td>\n",
       "      <td>rest</td>\n",
       "    </tr>\n",
       "    <tr>\n",
       "      <th>11</th>\n",
       "      <td>11</td>\n",
       "      <td>D</td>\n",
       "      <td>low fat</td>\n",
       "      <td>83</td>\n",
       "      <td>30</td>\n",
       "      <td>rest</td>\n",
       "    </tr>\n",
       "    <tr>\n",
       "      <th>12</th>\n",
       "      <td>12</td>\n",
       "      <td>E</td>\n",
       "      <td>no fat</td>\n",
       "      <td>91</td>\n",
       "      <td>10</td>\n",
       "      <td>rest</td>\n",
       "    </tr>\n",
       "    <tr>\n",
       "      <th>13</th>\n",
       "      <td>13</td>\n",
       "      <td>E</td>\n",
       "      <td>low fat</td>\n",
       "      <td>92</td>\n",
       "      <td>15</td>\n",
       "      <td>running</td>\n",
       "    </tr>\n",
       "    <tr>\n",
       "      <th>14</th>\n",
       "      <td>14</td>\n",
       "      <td>E</td>\n",
       "      <td>low fat</td>\n",
       "      <td>91</td>\n",
       "      <td>30</td>\n",
       "      <td>running</td>\n",
       "    </tr>\n",
       "  </tbody>\n",
       "</table>\n",
       "</div>"
      ],
      "text/plain": [
       "    ID Name     Diet  Pulse  Time(min)     Kind\n",
       "0    0    A  low fat     85         40  walking\n",
       "1    1    A  low fat     85         45  walking\n",
       "2    2    A   no fat     88         30  running\n",
       "3    3    B   no fat     90         10  walking\n",
       "4    4    B   no fat     92         15     rest\n",
       "5    5    B  low fat     93         30     rest\n",
       "6    6    C  low fat     97         15     rest\n",
       "7    7    C  low fat     97         15     rest\n",
       "8    8    C  low fat     94         30  walking\n",
       "9    9    D  low fat     80         10  walking\n",
       "10  10    D  low fat     82         15     rest\n",
       "11  11    D  low fat     83         30     rest\n",
       "12  12    E   no fat     91         10     rest\n",
       "13  13    E  low fat     92         15  running\n",
       "14  14    E  low fat     91         30  running"
      ]
     },
     "execution_count": 13,
     "metadata": {},
     "output_type": "execute_result"
    }
   ],
   "source": [
    "Selected=Exercise.set_index(['Name','Diet'])\n",
    "SelectedEx={'ID':np.arange(15),\n",
    "          'Name':['A','A','A','B','B','B','C','C','C','D','D','D','E','E','E'],\n",
    "         'Diet':['low fat','low fat','no fat','no fat','no fat','low fat','low fat','low fat','low fat'\n",
    "                 ,'low fat','low fat','low fat','no fat','low fat','low fat'],\n",
    "          'Pulse':[85,85,88,90,92,93,97,97,94,80,82,83,91,92,91],\n",
    "          'Time(min)':[40,45,30,10,15,30,15,15,30,10,15,30,10,15,30],\n",
    "          'Kind':['walking','walking','running','walking','rest','rest','rest','rest','walking','walking','rest','rest','rest',\n",
    "                 'running','running']\n",
    "         }\n",
    "Exercise=pd.DataFrame(Ex)\n",
    "Exercise"
   ]
  },
  {
   "cell_type": "code",
   "execution_count": 14,
   "id": "868a6b88",
   "metadata": {},
   "outputs": [
    {
     "data": {
      "text/plain": [
       "Name\n",
       "A    88\n",
       "B    93\n",
       "C    97\n",
       "D    83\n",
       "E    92\n",
       "Name: Pulse, dtype: int64"
      ]
     },
     "execution_count": 14,
     "metadata": {},
     "output_type": "execute_result"
    }
   ],
   "source": [
    "\n",
    "Selected['Pulse'].groupby(level=0).apply(max)"
   ]
  },
  {
   "cell_type": "markdown",
   "id": "c2c34d4a",
   "metadata": {},
   "source": [
    "b) Count the total number of records of individuals having names ‘A’ or ‘B’\n",
    "and who are following a low fat diet plan from the data frame SELECTED\n",
    "created in part (a). Also, sort DataFrame SELECTED on index at first\n",
    "level in descending order.\n"
   ]
  },
  {
   "cell_type": "code",
   "execution_count": 15,
   "id": "c940a935",
   "metadata": {},
   "outputs": [
    {
     "data": {
      "text/plain": [
       "Name  Diet   \n",
       "A     low fat    2\n",
       "B     low fat    1\n",
       "dtype: int64"
      ]
     },
     "execution_count": 15,
     "metadata": {},
     "output_type": "execute_result"
    }
   ],
   "source": [
    "Selected.groupby(level=[0,1]).size().loc[\"A\":\"B\",'low fat']"
   ]
  },
  {
   "cell_type": "code",
   "execution_count": 16,
   "id": "29d06456",
   "metadata": {},
   "outputs": [
    {
     "data": {
      "text/html": [
       "<div>\n",
       "<style scoped>\n",
       "    .dataframe tbody tr th:only-of-type {\n",
       "        vertical-align: middle;\n",
       "    }\n",
       "\n",
       "    .dataframe tbody tr th {\n",
       "        vertical-align: top;\n",
       "    }\n",
       "\n",
       "    .dataframe thead th {\n",
       "        text-align: right;\n",
       "    }\n",
       "</style>\n",
       "<table border=\"1\" class=\"dataframe\">\n",
       "  <thead>\n",
       "    <tr style=\"text-align: right;\">\n",
       "      <th></th>\n",
       "      <th></th>\n",
       "      <th>ID</th>\n",
       "      <th>Pulse</th>\n",
       "      <th>Time(min)</th>\n",
       "      <th>Kind</th>\n",
       "    </tr>\n",
       "    <tr>\n",
       "      <th>Name</th>\n",
       "      <th>Diet</th>\n",
       "      <th></th>\n",
       "      <th></th>\n",
       "      <th></th>\n",
       "      <th></th>\n",
       "    </tr>\n",
       "  </thead>\n",
       "  <tbody>\n",
       "    <tr>\n",
       "      <th rowspan=\"3\" valign=\"top\">E</th>\n",
       "      <th>no fat</th>\n",
       "      <td>12</td>\n",
       "      <td>91</td>\n",
       "      <td>10</td>\n",
       "      <td>rest</td>\n",
       "    </tr>\n",
       "    <tr>\n",
       "      <th>low fat</th>\n",
       "      <td>14</td>\n",
       "      <td>91</td>\n",
       "      <td>30</td>\n",
       "      <td>running</td>\n",
       "    </tr>\n",
       "    <tr>\n",
       "      <th>low fat</th>\n",
       "      <td>13</td>\n",
       "      <td>92</td>\n",
       "      <td>15</td>\n",
       "      <td>running</td>\n",
       "    </tr>\n",
       "    <tr>\n",
       "      <th rowspan=\"3\" valign=\"top\">D</th>\n",
       "      <th>low fat</th>\n",
       "      <td>11</td>\n",
       "      <td>83</td>\n",
       "      <td>30</td>\n",
       "      <td>rest</td>\n",
       "    </tr>\n",
       "    <tr>\n",
       "      <th>low fat</th>\n",
       "      <td>10</td>\n",
       "      <td>82</td>\n",
       "      <td>15</td>\n",
       "      <td>rest</td>\n",
       "    </tr>\n",
       "    <tr>\n",
       "      <th>low fat</th>\n",
       "      <td>9</td>\n",
       "      <td>80</td>\n",
       "      <td>10</td>\n",
       "      <td>walking</td>\n",
       "    </tr>\n",
       "    <tr>\n",
       "      <th rowspan=\"3\" valign=\"top\">C</th>\n",
       "      <th>low fat</th>\n",
       "      <td>8</td>\n",
       "      <td>94</td>\n",
       "      <td>30</td>\n",
       "      <td>walking</td>\n",
       "    </tr>\n",
       "    <tr>\n",
       "      <th>low fat</th>\n",
       "      <td>7</td>\n",
       "      <td>97</td>\n",
       "      <td>15</td>\n",
       "      <td>rest</td>\n",
       "    </tr>\n",
       "    <tr>\n",
       "      <th>low fat</th>\n",
       "      <td>6</td>\n",
       "      <td>97</td>\n",
       "      <td>15</td>\n",
       "      <td>rest</td>\n",
       "    </tr>\n",
       "    <tr>\n",
       "      <th rowspan=\"3\" valign=\"top\">B</th>\n",
       "      <th>no fat</th>\n",
       "      <td>4</td>\n",
       "      <td>92</td>\n",
       "      <td>15</td>\n",
       "      <td>rest</td>\n",
       "    </tr>\n",
       "    <tr>\n",
       "      <th>no fat</th>\n",
       "      <td>3</td>\n",
       "      <td>90</td>\n",
       "      <td>10</td>\n",
       "      <td>walking</td>\n",
       "    </tr>\n",
       "    <tr>\n",
       "      <th>low fat</th>\n",
       "      <td>5</td>\n",
       "      <td>93</td>\n",
       "      <td>30</td>\n",
       "      <td>rest</td>\n",
       "    </tr>\n",
       "    <tr>\n",
       "      <th rowspan=\"3\" valign=\"top\">A</th>\n",
       "      <th>no fat</th>\n",
       "      <td>2</td>\n",
       "      <td>88</td>\n",
       "      <td>30</td>\n",
       "      <td>running</td>\n",
       "    </tr>\n",
       "    <tr>\n",
       "      <th>low fat</th>\n",
       "      <td>1</td>\n",
       "      <td>85</td>\n",
       "      <td>45</td>\n",
       "      <td>walking</td>\n",
       "    </tr>\n",
       "    <tr>\n",
       "      <th>low fat</th>\n",
       "      <td>0</td>\n",
       "      <td>85</td>\n",
       "      <td>40</td>\n",
       "      <td>walking</td>\n",
       "    </tr>\n",
       "  </tbody>\n",
       "</table>\n",
       "</div>"
      ],
      "text/plain": [
       "              ID  Pulse  Time(min)     Kind\n",
       "Name Diet                                  \n",
       "E    no fat   12     91         10     rest\n",
       "     low fat  14     91         30  running\n",
       "     low fat  13     92         15  running\n",
       "D    low fat  11     83         30     rest\n",
       "     low fat  10     82         15     rest\n",
       "     low fat   9     80         10  walking\n",
       "C    low fat   8     94         30  walking\n",
       "     low fat   7     97         15     rest\n",
       "     low fat   6     97         15     rest\n",
       "B    no fat    4     92         15     rest\n",
       "     no fat    3     90         10  walking\n",
       "     low fat   5     93         30     rest\n",
       "A    no fat    2     88         30  running\n",
       "     low fat   1     85         45  walking\n",
       "     low fat   0     85         40  walking"
      ]
     },
     "execution_count": 16,
     "metadata": {},
     "output_type": "execute_result"
    }
   ],
   "source": [
    "Selected.sort_index(level=0,ascending=False)"
   ]
  },
  {
   "cell_type": "markdown",
   "id": "98b52d80",
   "metadata": {},
   "source": [
    "c) Using DataFrame EXERCISE, create a figure with two subplots and save\n",
    "the figure with the name ‘exerciseplot.jpeg’. Set title of the figure as\n",
    "‘EXERCISE’. First subplot compares the average pulse rate of individuals\n",
    "and the second subplot shows the relationship between variables ‘Pulse’\n",
    "and ‘Time’. Do color encoding using variable ‘kind’ in the scatter plot.\n"
   ]
  },
  {
   "cell_type": "code",
   "execution_count": 17,
   "id": "73b373d0",
   "metadata": {},
   "outputs": [
    {
     "data": {
      "text/plain": [
       "<function matplotlib.pyplot.show(close=None, block=None)>"
      ]
     },
     "execution_count": 17,
     "metadata": {},
     "output_type": "execute_result"
    },
    {
     "data": {
      "image/png": "[encoded data removed]",
      "text/plain": [
       "<Figure size 1600x1200 with 2 Axes>"
      ]
     },
     "metadata": {},
     "output_type": "display_data"
    }
   ],
   "source": [
    "plt.figure(figsize=(16,12))\n",
    "plt.subplot(1,2,1)\n",
    "s=Exercise.set_index([\"Name\"])['Pulse'].groupby(level=0).apply(np.mean)\n",
    "plt.scatter(s.index,s)\n",
    "plt.xlabel(\"Name\")\n",
    "plt.ylabel(\"Avg Pulse\")\n",
    "plt.show\n",
    "plt.subplot(1,2,2)\n",
    "plt.scatter(Exercise['Time(min)'],Exercise['Pulse'])\n",
    "plt.xlabel(\"Time\")\n",
    "plt.ylabel(\"Pulse\")\n",
    "plt.show"
   ]
  },
  {
   "cell_type": "markdown",
   "id": "b3a4e4f1",
   "metadata": {},
   "source": [
    "# Q3"
   ]
  },
  {
   "cell_type": "markdown",
   "id": "50a05752",
   "metadata": {},
   "source": [
    "a) Given the following commands to create series sr\n",
    "import numpy as np\n",
    "import pandas as pd\n",
    "sr = pd.Series([‘Madhuri’,’AjaySh@rma’, ‘R@ni’, ‘Radha’,np.nan,’Smita’,’3567’])\n",
    "Write separate commands to compute the length of each string in the\n",
    "series, replace @ with ‘a’ in all strings in the series, count the\n",
    "occurrences of ‘a’ in each string, change the case of all letters, find all\n",
    "strings with pattern ‘adh’ in them and find all strings that end with\n",
    "letter ‘i’."
   ]
  },
  {
   "cell_type": "code",
   "execution_count": 18,
   "id": "dc64e4fe",
   "metadata": {},
   "outputs": [],
   "source": [
    "sr = pd.Series(['Madhuri','AjaySh@rma', 'R@ni', 'Radha',np.nan,'Smita','3567'])"
   ]
  },
  {
   "cell_type": "code",
   "execution_count": 19,
   "id": "aea0ef77",
   "metadata": {},
   "outputs": [
    {
     "data": {
      "text/plain": [
       "0     7.0\n",
       "1    10.0\n",
       "2     4.0\n",
       "3     5.0\n",
       "4     NaN\n",
       "5     5.0\n",
       "6     4.0\n",
       "dtype: float64"
      ]
     },
     "execution_count": 19,
     "metadata": {},
     "output_type": "execute_result"
    }
   ],
   "source": [
    "sr.str.len()"
   ]
  },
  {
   "cell_type": "code",
   "execution_count": 20,
   "id": "39d84c5e",
   "metadata": {},
   "outputs": [
    {
     "data": {
      "text/plain": [
       "0       Madhuri\n",
       "1    AjaySharma\n",
       "2          Rani\n",
       "3         Radha\n",
       "4           NaN\n",
       "5         Smita\n",
       "6          3567\n",
       "dtype: object"
      ]
     },
     "execution_count": 20,
     "metadata": {},
     "output_type": "execute_result"
    }
   ],
   "source": [
    "sr=sr.str.replace('@','a')\n",
    "sr"
   ]
  },
  {
   "cell_type": "code",
   "execution_count": 21,
   "id": "9a9ed5ba",
   "metadata": {},
   "outputs": [
    {
     "data": {
      "text/plain": [
       "0    1.0\n",
       "1    3.0\n",
       "2    1.0\n",
       "3    2.0\n",
       "4    NaN\n",
       "5    1.0\n",
       "6    0.0\n",
       "dtype: float64"
      ]
     },
     "execution_count": 21,
     "metadata": {},
     "output_type": "execute_result"
    }
   ],
   "source": [
    "sr.str.count(\"a\")"
   ]
  },
  {
   "cell_type": "code",
   "execution_count": 22,
   "id": "ac95fd98",
   "metadata": {},
   "outputs": [
    {
     "data": {
      "text/plain": [
       "0    Madhuri\n",
       "2       Rani\n",
       "dtype: object"
      ]
     },
     "execution_count": 22,
     "metadata": {},
     "output_type": "execute_result"
    }
   ],
   "source": [
    "sr[sr.str.endswith('i',na=False)]"
   ]
  },
  {
   "cell_type": "code",
   "execution_count": 23,
   "id": "a5c2124e",
   "metadata": {},
   "outputs": [
    {
     "data": {
      "text/plain": [
       "0    Madhuri\n",
       "3      Radha\n",
       "dtype: object"
      ]
     },
     "execution_count": 23,
     "metadata": {},
     "output_type": "execute_result"
    }
   ],
   "source": [
    "sr[sr.str.contains('adh',na=False)]"
   ]
  },
  {
   "cell_type": "code",
   "execution_count": 24,
   "id": "1875db25",
   "metadata": {},
   "outputs": [
    {
     "data": {
      "text/plain": [
       "0       mADHURI\n",
       "1    aJAYsHARMA\n",
       "2          rANI\n",
       "3         rADHA\n",
       "4           NaN\n",
       "5         sMITA\n",
       "6          3567\n",
       "dtype: object"
      ]
     },
     "execution_count": 24,
     "metadata": {},
     "output_type": "execute_result"
    }
   ],
   "source": [
    "sr.str.swapcase()"
   ]
  },
  {
   "cell_type": "markdown",
   "id": "25fd3e3f",
   "metadata": {},
   "source": [
    "b) Create a DataFrame of 7 rows and 7 columns containing random\n",
    "integers in the range of 1 to 100. Compute the correlation of each row\n",
    "with the preceding row."
   ]
  },
  {
   "cell_type": "code",
   "execution_count": 25,
   "id": "ddc9d8e8",
   "metadata": {},
   "outputs": [
    {
     "data": {
      "text/html": [
       "<div>\n",
       "<style scoped>\n",
       "    .dataframe tbody tr th:only-of-type {\n",
       "        vertical-align: middle;\n",
       "    }\n",
       "\n",
       "    .dataframe tbody tr th {\n",
       "        vertical-align: top;\n",
       "    }\n",
       "\n",
       "    .dataframe thead th {\n",
       "        text-align: right;\n",
       "    }\n",
       "</style>\n",
       "<table border=\"1\" class=\"dataframe\">\n",
       "  <thead>\n",
       "    <tr style=\"text-align: right;\">\n",
       "      <th></th>\n",
       "      <th>0</th>\n",
       "      <th>1</th>\n",
       "      <th>2</th>\n",
       "      <th>3</th>\n",
       "      <th>4</th>\n",
       "      <th>5</th>\n",
       "      <th>6</th>\n",
       "    </tr>\n",
       "  </thead>\n",
       "  <tbody>\n",
       "    <tr>\n",
       "      <th>0</th>\n",
       "      <td>2</td>\n",
       "      <td>89</td>\n",
       "      <td>18</td>\n",
       "      <td>53</td>\n",
       "      <td>74</td>\n",
       "      <td>62</td>\n",
       "      <td>5</td>\n",
       "    </tr>\n",
       "    <tr>\n",
       "      <th>1</th>\n",
       "      <td>90</td>\n",
       "      <td>4</td>\n",
       "      <td>65</td>\n",
       "      <td>29</td>\n",
       "      <td>61</td>\n",
       "      <td>1</td>\n",
       "      <td>12</td>\n",
       "    </tr>\n",
       "    <tr>\n",
       "      <th>2</th>\n",
       "      <td>85</td>\n",
       "      <td>88</td>\n",
       "      <td>66</td>\n",
       "      <td>23</td>\n",
       "      <td>73</td>\n",
       "      <td>37</td>\n",
       "      <td>32</td>\n",
       "    </tr>\n",
       "    <tr>\n",
       "      <th>3</th>\n",
       "      <td>88</td>\n",
       "      <td>31</td>\n",
       "      <td>30</td>\n",
       "      <td>90</td>\n",
       "      <td>8</td>\n",
       "      <td>15</td>\n",
       "      <td>16</td>\n",
       "    </tr>\n",
       "    <tr>\n",
       "      <th>4</th>\n",
       "      <td>22</td>\n",
       "      <td>9</td>\n",
       "      <td>35</td>\n",
       "      <td>49</td>\n",
       "      <td>82</td>\n",
       "      <td>41</td>\n",
       "      <td>66</td>\n",
       "    </tr>\n",
       "    <tr>\n",
       "      <th>5</th>\n",
       "      <td>12</td>\n",
       "      <td>23</td>\n",
       "      <td>95</td>\n",
       "      <td>34</td>\n",
       "      <td>76</td>\n",
       "      <td>17</td>\n",
       "      <td>82</td>\n",
       "    </tr>\n",
       "    <tr>\n",
       "      <th>6</th>\n",
       "      <td>5</td>\n",
       "      <td>64</td>\n",
       "      <td>1</td>\n",
       "      <td>11</td>\n",
       "      <td>97</td>\n",
       "      <td>34</td>\n",
       "      <td>55</td>\n",
       "    </tr>\n",
       "  </tbody>\n",
       "</table>\n",
       "</div>"
      ],
      "text/plain": [
       "    0   1   2   3   4   5   6\n",
       "0   2  89  18  53  74  62   5\n",
       "1  90   4  65  29  61   1  12\n",
       "2  85  88  66  23  73  37  32\n",
       "3  88  31  30  90   8  15  16\n",
       "4  22   9  35  49  82  41  66\n",
       "5  12  23  95  34  76  17  82\n",
       "6   5  64   1  11  97  34  55"
      ]
     },
     "execution_count": 25,
     "metadata": {},
     "output_type": "execute_result"
    }
   ],
   "source": [
    "df=pd.DataFrame(np.random.randint(1,100,size=(7,7)))\n",
    "df"
   ]
  },
  {
   "cell_type": "code",
   "execution_count": 26,
   "id": "099a1669",
   "metadata": {},
   "outputs": [
    {
     "data": {
      "text/plain": [
       "0    1.000000\n",
       "1   -0.476542\n",
       "2    0.139565\n",
       "3   -0.301646\n",
       "4   -0.028094\n",
       "5   -0.276008\n",
       "6    0.577383\n",
       "dtype: float64"
      ]
     },
     "execution_count": 26,
     "metadata": {},
     "output_type": "execute_result"
    }
   ],
   "source": [
    "##correlation of each row with the preceding row.\n",
    "df.apply(lambda x:x.corr(df.iloc[x.index-1]),axis=1)"
   ]
  },
  {
   "cell_type": "markdown",
   "id": "04ebc2b2",
   "metadata": {},
   "source": [
    "c) Write Numpy code to generate a random list of 100 integers (range of\n",
    "55 to 150) and identify the index of the largest element and smallest\n",
    "element. Change this list into a 10 x 10 matrix and replace all diagonal\n",
    "elements with 1."
   ]
  },
  {
   "cell_type": "code",
   "execution_count": 27,
   "id": "7a81eb9f",
   "metadata": {},
   "outputs": [
    {
     "data": {
      "text/plain": [
       "array([124, 127,  91, 103, 137, 104,  66,  85, 100, 141,  81, 121, 138,\n",
       "        71, 116,  87, 130,  78,  84,  55,  86,  91, 116,  80,  73, 138,\n",
       "       102,  87, 144,  61, 141, 111, 100,  60,  64,  91, 127, 120, 127,\n",
       "        70,  87,  73,  84, 138, 132, 116,  56, 134, 148, 129,  89,  79,\n",
       "        92, 145,  92, 105, 140, 146, 102,  99, 113,  74,  68, 149, 123,\n",
       "       131, 139,  86,  83, 119, 129, 127,  66,  93,  92,  87,  77, 106,\n",
       "       128, 127, 136, 139,  66, 149,  59, 110, 111, 134,  88, 106, 131,\n",
       "       131, 104, 138, 137, 142,  97, 104, 116,  61])"
      ]
     },
     "execution_count": 27,
     "metadata": {},
     "output_type": "execute_result"
    }
   ],
   "source": [
    "l=np.random.randint(55,150,100)\n",
    "l"
   ]
  },
  {
   "cell_type": "code",
   "execution_count": 28,
   "id": "6ea2ecea",
   "metadata": {},
   "outputs": [
    {
     "data": {
      "text/plain": [
       "63"
      ]
     },
     "execution_count": 28,
     "metadata": {},
     "output_type": "execute_result"
    }
   ],
   "source": [
    "l.argmax()"
   ]
  },
  {
   "cell_type": "code",
   "execution_count": 29,
   "id": "083e410a",
   "metadata": {},
   "outputs": [
    {
     "data": {
      "text/plain": [
       "19"
      ]
     },
     "execution_count": 29,
     "metadata": {},
     "output_type": "execute_result"
    }
   ],
   "source": [
    "l.argmin()"
   ]
  },
  {
   "cell_type": "code",
   "execution_count": 30,
   "id": "2f6827a0",
   "metadata": {},
   "outputs": [
    {
     "data": {
      "text/plain": [
       "array([[124, 127,  91, 103, 137, 104,  66,  85, 100, 141],\n",
       "       [ 81, 121, 138,  71, 116,  87, 130,  78,  84,  55],\n",
       "       [ 86,  91, 116,  80,  73, 138, 102,  87, 144,  61],\n",
       "       [141, 111, 100,  60,  64,  91, 127, 120, 127,  70],\n",
       "       [ 87,  73,  84, 138, 132, 116,  56, 134, 148, 129],\n",
       "       [ 89,  79,  92, 145,  92, 105, 140, 146, 102,  99],\n",
       "       [113,  74,  68, 149, 123, 131, 139,  86,  83, 119],\n",
       "       [129, 127,  66,  93,  92,  87,  77, 106, 128, 127],\n",
       "       [136, 139,  66, 149,  59, 110, 111, 134,  88, 106],\n",
       "       [131, 131, 104, 138, 137, 142,  97, 104, 116,  61]])"
      ]
     },
     "execution_count": 30,
     "metadata": {},
     "output_type": "execute_result"
    }
   ],
   "source": [
    "l=l.reshape(10,10)\n",
    "l"
   ]
  },
  {
   "cell_type": "code",
   "execution_count": 31,
   "id": "879f74fd",
   "metadata": {},
   "outputs": [
    {
     "data": {
      "text/plain": [
       "array([[  1, 127,  91, 103, 137, 104,  66,  85, 100, 141],\n",
       "       [ 81,   1, 138,  71, 116,  87, 130,  78,  84,  55],\n",
       "       [ 86,  91,   1,  80,  73, 138, 102,  87, 144,  61],\n",
       "       [141, 111, 100,   1,  64,  91, 127, 120, 127,  70],\n",
       "       [ 87,  73,  84, 138,   1, 116,  56, 134, 148, 129],\n",
       "       [ 89,  79,  92, 145,  92,   1, 140, 146, 102,  99],\n",
       "       [113,  74,  68, 149, 123, 131,   1,  86,  83, 119],\n",
       "       [129, 127,  66,  93,  92,  87,  77,   1, 128, 127],\n",
       "       [136, 139,  66, 149,  59, 110, 111, 134,   1, 106],\n",
       "       [131, 131, 104, 138, 137, 142,  97, 104, 116,   1]])"
      ]
     },
     "execution_count": 31,
     "metadata": {},
     "output_type": "execute_result"
    }
   ],
   "source": [
    "np.fill_diagonal(l,1)\n",
    "l"
   ]
  },
  {
   "cell_type": "markdown",
   "id": "b11baff6",
   "metadata": {},
   "source": [
    "# Q4"
   ]
  },
  {
   "cell_type": "markdown",
   "id": "82bc6a0f",
   "metadata": {},
   "source": [
    "Using the data frame EXERCISE provided in Q2 , attempt the following\n",
    "questions"
   ]
  },
  {
   "cell_type": "markdown",
   "id": "8725cc59",
   "metadata": {},
   "source": [
    "a) What is a map function? Use map function to convert all values in the\n",
    "‘Diet’ attribute to uppercase."
   ]
  },
  {
   "cell_type": "code",
   "execution_count": 32,
   "id": "ee7e1589",
   "metadata": {},
   "outputs": [
    {
     "data": {
      "text/plain": [
       "0     LOW FAT\n",
       "1     LOW FAT\n",
       "2      NO FAT\n",
       "3      NO FAT\n",
       "4      NO FAT\n",
       "5     LOW FAT\n",
       "6     LOW FAT\n",
       "7     LOW FAT\n",
       "8     LOW FAT\n",
       "9     LOW FAT\n",
       "10    LOW FAT\n",
       "11    LOW FAT\n",
       "12     NO FAT\n",
       "13    LOW FAT\n",
       "14    LOW FAT\n",
       "Name: Diet, dtype: object"
      ]
     },
     "execution_count": 32,
     "metadata": {},
     "output_type": "execute_result"
    }
   ],
   "source": [
    "Exercise['Diet'].map(lambda x:x.upper())"
   ]
  },
  {
   "cell_type": "markdown",
   "id": "08955453",
   "metadata": {},
   "source": [
    "b) Assuming the data is stored in a csv file “Exercise.csv”, give appropriate\n",
    "commands to read this file, indexed on ‘Name’ and ‘Diet’ into a dataframe\n",
    "named EXERCISE. Modify this command to read only the first 5 rows of\n",
    "the file. If the file contains millions of records then give the command to\n",
    "read the file in small pieces of uniform size."
   ]
  },
  {
   "cell_type": "code",
   "execution_count": 33,
   "id": "3ff0d1e7",
   "metadata": {},
   "outputs": [],
   "source": [
    "Exercise.to_csv(\"Exercise.csv\",sep=' ')#created the csv file"
   ]
  },
  {
   "cell_type": "code",
   "execution_count": 34,
   "id": "d15a4f3d",
   "metadata": {},
   "outputs": [
    {
     "data": {
      "text/html": [
       "<div>\n",
       "<style scoped>\n",
       "    .dataframe tbody tr th:only-of-type {\n",
       "        vertical-align: middle;\n",
       "    }\n",
       "\n",
       "    .dataframe tbody tr th {\n",
       "        vertical-align: top;\n",
       "    }\n",
       "\n",
       "    .dataframe thead th {\n",
       "        text-align: right;\n",
       "    }\n",
       "</style>\n",
       "<table border=\"1\" class=\"dataframe\">\n",
       "  <thead>\n",
       "    <tr style=\"text-align: right;\">\n",
       "      <th></th>\n",
       "      <th></th>\n",
       "      <th>Unnamed: 0</th>\n",
       "      <th>ID</th>\n",
       "      <th>Pulse</th>\n",
       "      <th>Time(min)</th>\n",
       "      <th>Kind</th>\n",
       "    </tr>\n",
       "    <tr>\n",
       "      <th>Name</th>\n",
       "      <th>Diet</th>\n",
       "      <th></th>\n",
       "      <th></th>\n",
       "      <th></th>\n",
       "      <th></th>\n",
       "      <th></th>\n",
       "    </tr>\n",
       "  </thead>\n",
       "  <tbody>\n",
       "    <tr>\n",
       "      <th rowspan=\"3\" valign=\"top\">A</th>\n",
       "      <th>low fat</th>\n",
       "      <td>0</td>\n",
       "      <td>0</td>\n",
       "      <td>85</td>\n",
       "      <td>40</td>\n",
       "      <td>walking</td>\n",
       "    </tr>\n",
       "    <tr>\n",
       "      <th>low fat</th>\n",
       "      <td>1</td>\n",
       "      <td>1</td>\n",
       "      <td>85</td>\n",
       "      <td>45</td>\n",
       "      <td>walking</td>\n",
       "    </tr>\n",
       "    <tr>\n",
       "      <th>no fat</th>\n",
       "      <td>2</td>\n",
       "      <td>2</td>\n",
       "      <td>88</td>\n",
       "      <td>30</td>\n",
       "      <td>running</td>\n",
       "    </tr>\n",
       "    <tr>\n",
       "      <th rowspan=\"3\" valign=\"top\">B</th>\n",
       "      <th>no fat</th>\n",
       "      <td>3</td>\n",
       "      <td>3</td>\n",
       "      <td>90</td>\n",
       "      <td>10</td>\n",
       "      <td>walking</td>\n",
       "    </tr>\n",
       "    <tr>\n",
       "      <th>no fat</th>\n",
       "      <td>4</td>\n",
       "      <td>4</td>\n",
       "      <td>92</td>\n",
       "      <td>15</td>\n",
       "      <td>rest</td>\n",
       "    </tr>\n",
       "    <tr>\n",
       "      <th>low fat</th>\n",
       "      <td>5</td>\n",
       "      <td>5</td>\n",
       "      <td>93</td>\n",
       "      <td>30</td>\n",
       "      <td>rest</td>\n",
       "    </tr>\n",
       "    <tr>\n",
       "      <th rowspan=\"3\" valign=\"top\">C</th>\n",
       "      <th>low fat</th>\n",
       "      <td>6</td>\n",
       "      <td>6</td>\n",
       "      <td>97</td>\n",
       "      <td>15</td>\n",
       "      <td>rest</td>\n",
       "    </tr>\n",
       "    <tr>\n",
       "      <th>low fat</th>\n",
       "      <td>7</td>\n",
       "      <td>7</td>\n",
       "      <td>97</td>\n",
       "      <td>15</td>\n",
       "      <td>rest</td>\n",
       "    </tr>\n",
       "    <tr>\n",
       "      <th>low fat</th>\n",
       "      <td>8</td>\n",
       "      <td>8</td>\n",
       "      <td>94</td>\n",
       "      <td>30</td>\n",
       "      <td>walking</td>\n",
       "    </tr>\n",
       "    <tr>\n",
       "      <th rowspan=\"3\" valign=\"top\">D</th>\n",
       "      <th>low fat</th>\n",
       "      <td>9</td>\n",
       "      <td>9</td>\n",
       "      <td>80</td>\n",
       "      <td>10</td>\n",
       "      <td>walking</td>\n",
       "    </tr>\n",
       "    <tr>\n",
       "      <th>low fat</th>\n",
       "      <td>10</td>\n",
       "      <td>10</td>\n",
       "      <td>82</td>\n",
       "      <td>15</td>\n",
       "      <td>rest</td>\n",
       "    </tr>\n",
       "    <tr>\n",
       "      <th>low fat</th>\n",
       "      <td>11</td>\n",
       "      <td>11</td>\n",
       "      <td>83</td>\n",
       "      <td>30</td>\n",
       "      <td>rest</td>\n",
       "    </tr>\n",
       "    <tr>\n",
       "      <th rowspan=\"3\" valign=\"top\">E</th>\n",
       "      <th>no fat</th>\n",
       "      <td>12</td>\n",
       "      <td>12</td>\n",
       "      <td>91</td>\n",
       "      <td>10</td>\n",
       "      <td>rest</td>\n",
       "    </tr>\n",
       "    <tr>\n",
       "      <th>low fat</th>\n",
       "      <td>13</td>\n",
       "      <td>13</td>\n",
       "      <td>92</td>\n",
       "      <td>15</td>\n",
       "      <td>running</td>\n",
       "    </tr>\n",
       "    <tr>\n",
       "      <th>low fat</th>\n",
       "      <td>14</td>\n",
       "      <td>14</td>\n",
       "      <td>91</td>\n",
       "      <td>30</td>\n",
       "      <td>running</td>\n",
       "    </tr>\n",
       "  </tbody>\n",
       "</table>\n",
       "</div>"
      ],
      "text/plain": [
       "              Unnamed: 0  ID  Pulse  Time(min)     Kind\n",
       "Name Diet                                              \n",
       "A    low fat           0   0     85         40  walking\n",
       "     low fat           1   1     85         45  walking\n",
       "     no fat            2   2     88         30  running\n",
       "B    no fat            3   3     90         10  walking\n",
       "     no fat            4   4     92         15     rest\n",
       "     low fat           5   5     93         30     rest\n",
       "C    low fat           6   6     97         15     rest\n",
       "     low fat           7   7     97         15     rest\n",
       "     low fat           8   8     94         30  walking\n",
       "D    low fat           9   9     80         10  walking\n",
       "     low fat          10  10     82         15     rest\n",
       "     low fat          11  11     83         30     rest\n",
       "E    no fat           12  12     91         10     rest\n",
       "     low fat          13  13     92         15  running\n",
       "     low fat          14  14     91         30  running"
      ]
     },
     "execution_count": 34,
     "metadata": {},
     "output_type": "execute_result"
    }
   ],
   "source": [
    "EXERCISE=pd.read_csv(\"Exercise.csv\",sep=' ',index_col=['Name','Diet'])\n",
    "EXERCISE"
   ]
  },
  {
   "cell_type": "code",
   "execution_count": 35,
   "id": "85614fc5",
   "metadata": {},
   "outputs": [
    {
     "data": {
      "text/html": [
       "<div>\n",
       "<style scoped>\n",
       "    .dataframe tbody tr th:only-of-type {\n",
       "        vertical-align: middle;\n",
       "    }\n",
       "\n",
       "    .dataframe tbody tr th {\n",
       "        vertical-align: top;\n",
       "    }\n",
       "\n",
       "    .dataframe thead th {\n",
       "        text-align: right;\n",
       "    }\n",
       "</style>\n",
       "<table border=\"1\" class=\"dataframe\">\n",
       "  <thead>\n",
       "    <tr style=\"text-align: right;\">\n",
       "      <th></th>\n",
       "      <th></th>\n",
       "      <th>Unnamed: 0</th>\n",
       "      <th>ID</th>\n",
       "      <th>Pulse</th>\n",
       "      <th>Time(min)</th>\n",
       "      <th>Kind</th>\n",
       "    </tr>\n",
       "    <tr>\n",
       "      <th>Name</th>\n",
       "      <th>Diet</th>\n",
       "      <th></th>\n",
       "      <th></th>\n",
       "      <th></th>\n",
       "      <th></th>\n",
       "      <th></th>\n",
       "    </tr>\n",
       "  </thead>\n",
       "  <tbody>\n",
       "    <tr>\n",
       "      <th rowspan=\"3\" valign=\"top\">A</th>\n",
       "      <th>low fat</th>\n",
       "      <td>0</td>\n",
       "      <td>0</td>\n",
       "      <td>85</td>\n",
       "      <td>40</td>\n",
       "      <td>walking</td>\n",
       "    </tr>\n",
       "    <tr>\n",
       "      <th>low fat</th>\n",
       "      <td>1</td>\n",
       "      <td>1</td>\n",
       "      <td>85</td>\n",
       "      <td>45</td>\n",
       "      <td>walking</td>\n",
       "    </tr>\n",
       "    <tr>\n",
       "      <th>no fat</th>\n",
       "      <td>2</td>\n",
       "      <td>2</td>\n",
       "      <td>88</td>\n",
       "      <td>30</td>\n",
       "      <td>running</td>\n",
       "    </tr>\n",
       "    <tr>\n",
       "      <th rowspan=\"2\" valign=\"top\">B</th>\n",
       "      <th>no fat</th>\n",
       "      <td>3</td>\n",
       "      <td>3</td>\n",
       "      <td>90</td>\n",
       "      <td>10</td>\n",
       "      <td>walking</td>\n",
       "    </tr>\n",
       "    <tr>\n",
       "      <th>no fat</th>\n",
       "      <td>4</td>\n",
       "      <td>4</td>\n",
       "      <td>92</td>\n",
       "      <td>15</td>\n",
       "      <td>rest</td>\n",
       "    </tr>\n",
       "  </tbody>\n",
       "</table>\n",
       "</div>"
      ],
      "text/plain": [
       "              Unnamed: 0  ID  Pulse  Time(min)     Kind\n",
       "Name Diet                                              \n",
       "A    low fat           0   0     85         40  walking\n",
       "     low fat           1   1     85         45  walking\n",
       "     no fat            2   2     88         30  running\n",
       "B    no fat            3   3     90         10  walking\n",
       "     no fat            4   4     92         15     rest"
      ]
     },
     "execution_count": 35,
     "metadata": {},
     "output_type": "execute_result"
    }
   ],
   "source": [
    "EXERCISE=pd.read_csv(\"Exercise.csv\",sep=' ',index_col=['Name','Diet'],nrows=5)\n",
    "EXERCISE"
   ]
  },
  {
   "cell_type": "code",
   "execution_count": 36,
   "id": "ba563902",
   "metadata": {},
   "outputs": [],
   "source": [
    "EXERCISE=pd.read_csv(\"Exercise.csv\",sep=' ',index_col=['Name','Diet'],chunksize=100)"
   ]
  },
  {
   "cell_type": "markdown",
   "id": "dc589a0c",
   "metadata": {},
   "source": [
    "c) Differentiate between qcut and cut methods. Use the appropriate method to\n",
    "create 4 bins on the ‘Pulse’ attribute. Store the corresponding bin value of\n",
    "‘Pulse’ attribute as a new attribute ‘Pbin’ in the original DataFrame.\n",
    "Display the count of values of each bin"
   ]
  },
  {
   "cell_type": "code",
   "execution_count": 37,
   "id": "3401507c",
   "metadata": {},
   "outputs": [
    {
     "data": {
      "text/plain": [
       "0     (79.999, 85.0]\n",
       "1     (79.999, 85.0]\n",
       "2       (85.0, 91.0]\n",
       "3       (85.0, 91.0]\n",
       "4       (91.0, 92.5]\n",
       "5       (92.5, 97.0]\n",
       "6       (92.5, 97.0]\n",
       "7       (92.5, 97.0]\n",
       "8       (92.5, 97.0]\n",
       "9     (79.999, 85.0]\n",
       "10    (79.999, 85.0]\n",
       "11    (79.999, 85.0]\n",
       "12      (85.0, 91.0]\n",
       "13      (91.0, 92.5]\n",
       "14      (85.0, 91.0]\n",
       "Name: Pulse, dtype: category\n",
       "Categories (4, interval[float64, right]): [(79.999, 85.0] < (85.0, 91.0] < (91.0, 92.5] < (92.5, 97.0]]"
      ]
     },
     "execution_count": 37,
     "metadata": {},
     "output_type": "execute_result"
    }
   ],
   "source": [
    "Pbin=pd.qcut(Exercise['Pulse'],4)\n",
    "Pbin"
   ]
  },
  {
   "cell_type": "code",
   "execution_count": 38,
   "id": "a7140ac3",
   "metadata": {},
   "outputs": [
    {
     "data": {
      "text/html": [
       "<div>\n",
       "<style scoped>\n",
       "    .dataframe tbody tr th:only-of-type {\n",
       "        vertical-align: middle;\n",
       "    }\n",
       "\n",
       "    .dataframe tbody tr th {\n",
       "        vertical-align: top;\n",
       "    }\n",
       "\n",
       "    .dataframe thead th {\n",
       "        text-align: right;\n",
       "    }\n",
       "</style>\n",
       "<table border=\"1\" class=\"dataframe\">\n",
       "  <thead>\n",
       "    <tr style=\"text-align: right;\">\n",
       "      <th></th>\n",
       "      <th>ID</th>\n",
       "      <th>Name</th>\n",
       "      <th>Diet</th>\n",
       "      <th>Pulse</th>\n",
       "      <th>Time(min)</th>\n",
       "      <th>Kind</th>\n",
       "      <th>Pbin</th>\n",
       "    </tr>\n",
       "  </thead>\n",
       "  <tbody>\n",
       "    <tr>\n",
       "      <th>0</th>\n",
       "      <td>0</td>\n",
       "      <td>A</td>\n",
       "      <td>low fat</td>\n",
       "      <td>85</td>\n",
       "      <td>40</td>\n",
       "      <td>walking</td>\n",
       "      <td>(79.999, 85.0]</td>\n",
       "    </tr>\n",
       "    <tr>\n",
       "      <th>1</th>\n",
       "      <td>1</td>\n",
       "      <td>A</td>\n",
       "      <td>low fat</td>\n",
       "      <td>85</td>\n",
       "      <td>45</td>\n",
       "      <td>walking</td>\n",
       "      <td>(79.999, 85.0]</td>\n",
       "    </tr>\n",
       "    <tr>\n",
       "      <th>2</th>\n",
       "      <td>2</td>\n",
       "      <td>A</td>\n",
       "      <td>no fat</td>\n",
       "      <td>88</td>\n",
       "      <td>30</td>\n",
       "      <td>running</td>\n",
       "      <td>(85.0, 91.0]</td>\n",
       "    </tr>\n",
       "    <tr>\n",
       "      <th>3</th>\n",
       "      <td>3</td>\n",
       "      <td>B</td>\n",
       "      <td>no fat</td>\n",
       "      <td>90</td>\n",
       "      <td>10</td>\n",
       "      <td>walking</td>\n",
       "      <td>(85.0, 91.0]</td>\n",
       "    </tr>\n",
       "    <tr>\n",
       "      <th>4</th>\n",
       "      <td>4</td>\n",
       "      <td>B</td>\n",
       "      <td>no fat</td>\n",
       "      <td>92</td>\n",
       "      <td>15</td>\n",
       "      <td>rest</td>\n",
       "      <td>(91.0, 92.5]</td>\n",
       "    </tr>\n",
       "    <tr>\n",
       "      <th>5</th>\n",
       "      <td>5</td>\n",
       "      <td>B</td>\n",
       "      <td>low fat</td>\n",
       "      <td>93</td>\n",
       "      <td>30</td>\n",
       "      <td>rest</td>\n",
       "      <td>(92.5, 97.0]</td>\n",
       "    </tr>\n",
       "    <tr>\n",
       "      <th>6</th>\n",
       "      <td>6</td>\n",
       "      <td>C</td>\n",
       "      <td>low fat</td>\n",
       "      <td>97</td>\n",
       "      <td>15</td>\n",
       "      <td>rest</td>\n",
       "      <td>(92.5, 97.0]</td>\n",
       "    </tr>\n",
       "    <tr>\n",
       "      <th>7</th>\n",
       "      <td>7</td>\n",
       "      <td>C</td>\n",
       "      <td>low fat</td>\n",
       "      <td>97</td>\n",
       "      <td>15</td>\n",
       "      <td>rest</td>\n",
       "      <td>(92.5, 97.0]</td>\n",
       "    </tr>\n",
       "    <tr>\n",
       "      <th>8</th>\n",
       "      <td>8</td>\n",
       "      <td>C</td>\n",
       "      <td>low fat</td>\n",
       "      <td>94</td>\n",
       "      <td>30</td>\n",
       "      <td>walking</td>\n",
       "      <td>(92.5, 97.0]</td>\n",
       "    </tr>\n",
       "    <tr>\n",
       "      <th>9</th>\n",
       "      <td>9</td>\n",
       "      <td>D</td>\n",
       "      <td>low fat</td>\n",
       "      <td>80</td>\n",
       "      <td>10</td>\n",
       "      <td>walking</td>\n",
       "      <td>(79.999, 85.0]</td>\n",
       "    </tr>\n",
       "    <tr>\n",
       "      <th>10</th>\n",
       "      <td>10</td>\n",
       "      <td>D</td>\n",
       "      <td>low fat</td>\n",
       "      <td>82</td>\n",
       "      <td>15</td>\n",
       "      <td>rest</td>\n",
       "      <td>(79.999, 85.0]</td>\n",
       "    </tr>\n",
       "    <tr>\n",
       "      <th>11</th>\n",
       "      <td>11</td>\n",
       "      <td>D</td>\n",
       "      <td>low fat</td>\n",
       "      <td>83</td>\n",
       "      <td>30</td>\n",
       "      <td>rest</td>\n",
       "      <td>(79.999, 85.0]</td>\n",
       "    </tr>\n",
       "    <tr>\n",
       "      <th>12</th>\n",
       "      <td>12</td>\n",
       "      <td>E</td>\n",
       "      <td>no fat</td>\n",
       "      <td>91</td>\n",
       "      <td>10</td>\n",
       "      <td>rest</td>\n",
       "      <td>(85.0, 91.0]</td>\n",
       "    </tr>\n",
       "    <tr>\n",
       "      <th>13</th>\n",
       "      <td>13</td>\n",
       "      <td>E</td>\n",
       "      <td>low fat</td>\n",
       "      <td>92</td>\n",
       "      <td>15</td>\n",
       "      <td>running</td>\n",
       "      <td>(91.0, 92.5]</td>\n",
       "    </tr>\n",
       "    <tr>\n",
       "      <th>14</th>\n",
       "      <td>14</td>\n",
       "      <td>E</td>\n",
       "      <td>low fat</td>\n",
       "      <td>91</td>\n",
       "      <td>30</td>\n",
       "      <td>running</td>\n",
       "      <td>(85.0, 91.0]</td>\n",
       "    </tr>\n",
       "  </tbody>\n",
       "</table>\n",
       "</div>"
      ],
      "text/plain": [
       "    ID Name     Diet  Pulse  Time(min)     Kind            Pbin\n",
       "0    0    A  low fat     85         40  walking  (79.999, 85.0]\n",
       "1    1    A  low fat     85         45  walking  (79.999, 85.0]\n",
       "2    2    A   no fat     88         30  running    (85.0, 91.0]\n",
       "3    3    B   no fat     90         10  walking    (85.0, 91.0]\n",
       "4    4    B   no fat     92         15     rest    (91.0, 92.5]\n",
       "5    5    B  low fat     93         30     rest    (92.5, 97.0]\n",
       "6    6    C  low fat     97         15     rest    (92.5, 97.0]\n",
       "7    7    C  low fat     97         15     rest    (92.5, 97.0]\n",
       "8    8    C  low fat     94         30  walking    (92.5, 97.0]\n",
       "9    9    D  low fat     80         10  walking  (79.999, 85.0]\n",
       "10  10    D  low fat     82         15     rest  (79.999, 85.0]\n",
       "11  11    D  low fat     83         30     rest  (79.999, 85.0]\n",
       "12  12    E   no fat     91         10     rest    (85.0, 91.0]\n",
       "13  13    E  low fat     92         15  running    (91.0, 92.5]\n",
       "14  14    E  low fat     91         30  running    (85.0, 91.0]"
      ]
     },
     "execution_count": 38,
     "metadata": {},
     "output_type": "execute_result"
    }
   ],
   "source": [
    "Exercise['Pbin']=Pbin\n",
    "Exercise"
   ]
  },
  {
   "cell_type": "code",
   "execution_count": 39,
   "id": "ab9091f6",
   "metadata": {},
   "outputs": [
    {
     "data": {
      "text/plain": [
       "(79.999, 85.0]    5\n",
       "(85.0, 91.0]      4\n",
       "(92.5, 97.0]      4\n",
       "(91.0, 92.5]      2\n",
       "Name: Pulse, dtype: int64"
      ]
     },
     "execution_count": 39,
     "metadata": {},
     "output_type": "execute_result"
    }
   ],
   "source": [
    "pd.value_counts(Pbin)"
   ]
  },
  {
   "cell_type": "markdown",
   "id": "a2045034",
   "metadata": {},
   "source": [
    "# Q5"
   ]
  },
  {
   "cell_type": "code",
   "execution_count": 40,
   "id": "cf619346",
   "metadata": {},
   "outputs": [
    {
     "data": {
      "text/html": [
       "<div>\n",
       "<style scoped>\n",
       "    .dataframe tbody tr th:only-of-type {\n",
       "        vertical-align: middle;\n",
       "    }\n",
       "\n",
       "    .dataframe tbody tr th {\n",
       "        vertical-align: top;\n",
       "    }\n",
       "\n",
       "    .dataframe thead th {\n",
       "        text-align: right;\n",
       "    }\n",
       "</style>\n",
       "<table border=\"1\" class=\"dataframe\">\n",
       "  <thead>\n",
       "    <tr style=\"text-align: right;\">\n",
       "      <th></th>\n",
       "      <th>Sid</th>\n",
       "      <th>Name</th>\n",
       "      <th>List</th>\n",
       "      <th>DateAdm</th>\n",
       "      <th>Marks(%)</th>\n",
       "      <th>CourseCode</th>\n",
       "      <th>Gender</th>\n",
       "    </tr>\n",
       "  </thead>\n",
       "  <tbody>\n",
       "    <tr>\n",
       "      <th>0</th>\n",
       "      <td>S1</td>\n",
       "      <td>Amit Jaiswal</td>\n",
       "      <td>I</td>\n",
       "      <td>01-07-2021</td>\n",
       "      <td>97.00</td>\n",
       "      <td>C001</td>\n",
       "      <td>Male</td>\n",
       "    </tr>\n",
       "    <tr>\n",
       "      <th>1</th>\n",
       "      <td>S2</td>\n",
       "      <td>Pradeep Dubey</td>\n",
       "      <td>II</td>\n",
       "      <td>09-07-2021</td>\n",
       "      <td>95.00</td>\n",
       "      <td>C009</td>\n",
       "      <td>Male</td>\n",
       "    </tr>\n",
       "    <tr>\n",
       "      <th>2</th>\n",
       "      <td>S3</td>\n",
       "      <td>Rinky Arora</td>\n",
       "      <td>I</td>\n",
       "      <td>04-07-2021</td>\n",
       "      <td>90.00</td>\n",
       "      <td>C112</td>\n",
       "      <td>Female</td>\n",
       "    </tr>\n",
       "    <tr>\n",
       "      <th>3</th>\n",
       "      <td>S4</td>\n",
       "      <td>Sonia Shah</td>\n",
       "      <td>IV</td>\n",
       "      <td>01-08-2021</td>\n",
       "      <td>96.00</td>\n",
       "      <td>C001</td>\n",
       "      <td>Female</td>\n",
       "    </tr>\n",
       "    <tr>\n",
       "      <th>4</th>\n",
       "      <td>S5</td>\n",
       "      <td>Sushil Negi</td>\n",
       "      <td>III</td>\n",
       "      <td>20-07-2021</td>\n",
       "      <td>96.50</td>\n",
       "      <td>C001</td>\n",
       "      <td>Male</td>\n",
       "    </tr>\n",
       "    <tr>\n",
       "      <th>5</th>\n",
       "      <td>S6</td>\n",
       "      <td>Neeraj Gaur</td>\n",
       "      <td>II</td>\n",
       "      <td>11-07-2021</td>\n",
       "      <td>94.50</td>\n",
       "      <td>C009</td>\n",
       "      <td>Male</td>\n",
       "    </tr>\n",
       "    <tr>\n",
       "      <th>6</th>\n",
       "      <td>S7</td>\n",
       "      <td>Preeti Sharma</td>\n",
       "      <td>IV</td>\n",
       "      <td>03-08-21</td>\n",
       "      <td>89.00</td>\n",
       "      <td>C112</td>\n",
       "      <td>Female</td>\n",
       "    </tr>\n",
       "    <tr>\n",
       "      <th>7</th>\n",
       "      <td>S8</td>\n",
       "      <td>Deep Gupta</td>\n",
       "      <td>III</td>\n",
       "      <td>23-07-2021</td>\n",
       "      <td>95.75</td>\n",
       "      <td>C001</td>\n",
       "      <td>Male</td>\n",
       "    </tr>\n",
       "    <tr>\n",
       "      <th>8</th>\n",
       "      <td>S9</td>\n",
       "      <td>Priya Bansal</td>\n",
       "      <td>II</td>\n",
       "      <td>10-7-2021</td>\n",
       "      <td>93.50</td>\n",
       "      <td>C009</td>\n",
       "      <td>Female</td>\n",
       "    </tr>\n",
       "    <tr>\n",
       "      <th>9</th>\n",
       "      <td>S10</td>\n",
       "      <td>Anand Ahuja</td>\n",
       "      <td>I</td>\n",
       "      <td>01-07-2021</td>\n",
       "      <td>88.50</td>\n",
       "      <td>C112</td>\n",
       "      <td>Male</td>\n",
       "    </tr>\n",
       "  </tbody>\n",
       "</table>\n",
       "</div>"
      ],
      "text/plain": [
       "   Sid           Name List     DateAdm  Marks(%) CourseCode  Gender\n",
       "0   S1   Amit Jaiswal    I  01-07-2021     97.00       C001    Male\n",
       "1   S2  Pradeep Dubey   II  09-07-2021     95.00       C009    Male\n",
       "2   S3    Rinky Arora    I  04-07-2021     90.00       C112  Female\n",
       "3   S4     Sonia Shah   IV  01-08-2021     96.00       C001  Female\n",
       "4   S5    Sushil Negi  III  20-07-2021     96.50       C001    Male\n",
       "5   S6    Neeraj Gaur   II  11-07-2021     94.50       C009    Male\n",
       "6   S7  Preeti Sharma   IV    03-08-21     89.00       C112  Female\n",
       "7   S8     Deep Gupta  III  23-07-2021     95.75       C001    Male\n",
       "8   S9   Priya Bansal   II   10-7-2021     93.50       C009  Female\n",
       "9  S10    Anand Ahuja    I  01-07-2021     88.50       C112    Male"
      ]
     },
     "execution_count": 40,
     "metadata": {},
     "output_type": "execute_result"
    }
   ],
   "source": [
    "ADM=pd.read_csv('ADM.csv',sep=' ')\n",
    "ADM"
   ]
  },
  {
   "cell_type": "markdown",
   "id": "0ff1cad7",
   "metadata": {},
   "source": [
    "a) Set the first column ‘Sid’ as the row index of the given DataFrame ADM.\n",
    "Create a pivot table of the DataFrame to display the total number of\n",
    "admissions as per ‘Course Code’ and ‘Gender’."
   ]
  },
  {
   "cell_type": "code",
   "execution_count": 41,
   "id": "f721f4f6",
   "metadata": {},
   "outputs": [
    {
     "data": {
      "text/html": [
       "<div>\n",
       "<style scoped>\n",
       "    .dataframe tbody tr th:only-of-type {\n",
       "        vertical-align: middle;\n",
       "    }\n",
       "\n",
       "    .dataframe tbody tr th {\n",
       "        vertical-align: top;\n",
       "    }\n",
       "\n",
       "    .dataframe thead th {\n",
       "        text-align: right;\n",
       "    }\n",
       "</style>\n",
       "<table border=\"1\" class=\"dataframe\">\n",
       "  <thead>\n",
       "    <tr style=\"text-align: right;\">\n",
       "      <th></th>\n",
       "      <th>Name</th>\n",
       "      <th>List</th>\n",
       "      <th>DateAdm</th>\n",
       "      <th>Marks(%)</th>\n",
       "      <th>CourseCode</th>\n",
       "      <th>Gender</th>\n",
       "    </tr>\n",
       "    <tr>\n",
       "      <th>Sid</th>\n",
       "      <th></th>\n",
       "      <th></th>\n",
       "      <th></th>\n",
       "      <th></th>\n",
       "      <th></th>\n",
       "      <th></th>\n",
       "    </tr>\n",
       "  </thead>\n",
       "  <tbody>\n",
       "    <tr>\n",
       "      <th>S1</th>\n",
       "      <td>Amit Jaiswal</td>\n",
       "      <td>I</td>\n",
       "      <td>01-07-2021</td>\n",
       "      <td>97.00</td>\n",
       "      <td>C001</td>\n",
       "      <td>Male</td>\n",
       "    </tr>\n",
       "    <tr>\n",
       "      <th>S2</th>\n",
       "      <td>Pradeep Dubey</td>\n",
       "      <td>II</td>\n",
       "      <td>09-07-2021</td>\n",
       "      <td>95.00</td>\n",
       "      <td>C009</td>\n",
       "      <td>Male</td>\n",
       "    </tr>\n",
       "    <tr>\n",
       "      <th>S3</th>\n",
       "      <td>Rinky Arora</td>\n",
       "      <td>I</td>\n",
       "      <td>04-07-2021</td>\n",
       "      <td>90.00</td>\n",
       "      <td>C112</td>\n",
       "      <td>Female</td>\n",
       "    </tr>\n",
       "    <tr>\n",
       "      <th>S4</th>\n",
       "      <td>Sonia Shah</td>\n",
       "      <td>IV</td>\n",
       "      <td>01-08-2021</td>\n",
       "      <td>96.00</td>\n",
       "      <td>C001</td>\n",
       "      <td>Female</td>\n",
       "    </tr>\n",
       "    <tr>\n",
       "      <th>S5</th>\n",
       "      <td>Sushil Negi</td>\n",
       "      <td>III</td>\n",
       "      <td>20-07-2021</td>\n",
       "      <td>96.50</td>\n",
       "      <td>C001</td>\n",
       "      <td>Male</td>\n",
       "    </tr>\n",
       "    <tr>\n",
       "      <th>S6</th>\n",
       "      <td>Neeraj Gaur</td>\n",
       "      <td>II</td>\n",
       "      <td>11-07-2021</td>\n",
       "      <td>94.50</td>\n",
       "      <td>C009</td>\n",
       "      <td>Male</td>\n",
       "    </tr>\n",
       "    <tr>\n",
       "      <th>S7</th>\n",
       "      <td>Preeti Sharma</td>\n",
       "      <td>IV</td>\n",
       "      <td>03-08-21</td>\n",
       "      <td>89.00</td>\n",
       "      <td>C112</td>\n",
       "      <td>Female</td>\n",
       "    </tr>\n",
       "    <tr>\n",
       "      <th>S8</th>\n",
       "      <td>Deep Gupta</td>\n",
       "      <td>III</td>\n",
       "      <td>23-07-2021</td>\n",
       "      <td>95.75</td>\n",
       "      <td>C001</td>\n",
       "      <td>Male</td>\n",
       "    </tr>\n",
       "    <tr>\n",
       "      <th>S9</th>\n",
       "      <td>Priya Bansal</td>\n",
       "      <td>II</td>\n",
       "      <td>10-7-2021</td>\n",
       "      <td>93.50</td>\n",
       "      <td>C009</td>\n",
       "      <td>Female</td>\n",
       "    </tr>\n",
       "    <tr>\n",
       "      <th>S10</th>\n",
       "      <td>Anand Ahuja</td>\n",
       "      <td>I</td>\n",
       "      <td>01-07-2021</td>\n",
       "      <td>88.50</td>\n",
       "      <td>C112</td>\n",
       "      <td>Male</td>\n",
       "    </tr>\n",
       "  </tbody>\n",
       "</table>\n",
       "</div>"
      ],
      "text/plain": [
       "              Name List     DateAdm  Marks(%) CourseCode  Gender\n",
       "Sid                                                             \n",
       "S1    Amit Jaiswal    I  01-07-2021     97.00       C001    Male\n",
       "S2   Pradeep Dubey   II  09-07-2021     95.00       C009    Male\n",
       "S3     Rinky Arora    I  04-07-2021     90.00       C112  Female\n",
       "S4      Sonia Shah   IV  01-08-2021     96.00       C001  Female\n",
       "S5     Sushil Negi  III  20-07-2021     96.50       C001    Male\n",
       "S6     Neeraj Gaur   II  11-07-2021     94.50       C009    Male\n",
       "S7   Preeti Sharma   IV    03-08-21     89.00       C112  Female\n",
       "S8      Deep Gupta  III  23-07-2021     95.75       C001    Male\n",
       "S9    Priya Bansal   II   10-7-2021     93.50       C009  Female\n",
       "S10    Anand Ahuja    I  01-07-2021     88.50       C112    Male"
      ]
     },
     "execution_count": 41,
     "metadata": {},
     "output_type": "execute_result"
    }
   ],
   "source": [
    "Adm=ADM.set_index(['Sid'])\n",
    "Adm"
   ]
  },
  {
   "cell_type": "code",
   "execution_count": 45,
   "id": "35ed4526",
   "metadata": {},
   "outputs": [
    {
     "ename": "KeyError",
     "evalue": "'Course Code'",
     "output_type": "error",
     "traceback": [
      "\u001b[0;31m---------------------------------------------------------------------------\u001b[0m",
      "\u001b[0;31mKeyError\u001b[0m                                  Traceback (most recent call last)",
      "Cell \u001b[0;32mIn [45], line 1\u001b[0m\n\u001b[0;32m----> 1\u001b[0m Adm\u001b[39m.\u001b[39;49mpivot_table(index\u001b[39m=\u001b[39;49m[\u001b[39m'\u001b[39;49m\u001b[39mCourse Code\u001b[39;49m\u001b[39m'\u001b[39;49m,\u001b[39m'\u001b[39;49m\u001b[39mGender\u001b[39;49m\u001b[39m'\u001b[39;49m],aggfunc\u001b[39m=\u001b[39;49m\u001b[39m'\u001b[39;49m\u001b[39mcount\u001b[39;49m\u001b[39m'\u001b[39;49m)[\u001b[39m'\u001b[39m\u001b[39mName\u001b[39m\u001b[39m'\u001b[39m]\n",
      "File \u001b[0;32m~/.local/lib/python3.10/site-packages/pandas/core/frame.py:8718\u001b[0m, in \u001b[0;36mDataFrame.pivot_table\u001b[0;34m(self, values, index, columns, aggfunc, fill_value, margins, dropna, margins_name, observed, sort)\u001b[0m\n\u001b[1;32m   8701\u001b[0m \u001b[39m@Substitution\u001b[39m(\u001b[39m\"\u001b[39m\u001b[39m\"\u001b[39m)\n\u001b[1;32m   8702\u001b[0m \u001b[39m@Appender\u001b[39m(_shared_docs[\u001b[39m\"\u001b[39m\u001b[39mpivot_table\u001b[39m\u001b[39m\"\u001b[39m])\n\u001b[1;32m   8703\u001b[0m \u001b[39mdef\u001b[39;00m \u001b[39mpivot_table\u001b[39m(\n\u001b[0;32m   (...)\u001b[0m\n\u001b[1;32m   8714\u001b[0m     sort\u001b[39m=\u001b[39m\u001b[39mTrue\u001b[39;00m,\n\u001b[1;32m   8715\u001b[0m ) \u001b[39m-\u001b[39m\u001b[39m>\u001b[39m DataFrame:\n\u001b[1;32m   8716\u001b[0m     \u001b[39mfrom\u001b[39;00m \u001b[39mpandas\u001b[39;00m\u001b[39m.\u001b[39;00m\u001b[39mcore\u001b[39;00m\u001b[39m.\u001b[39;00m\u001b[39mreshape\u001b[39;00m\u001b[39m.\u001b[39;00m\u001b[39mpivot\u001b[39;00m \u001b[39mimport\u001b[39;00m pivot_table\n\u001b[0;32m-> 8718\u001b[0m     \u001b[39mreturn\u001b[39;00m pivot_table(\n\u001b[1;32m   8719\u001b[0m         \u001b[39mself\u001b[39;49m,\n\u001b[1;32m   8720\u001b[0m         values\u001b[39m=\u001b[39;49mvalues,\n\u001b[1;32m   8721\u001b[0m         index\u001b[39m=\u001b[39;49mindex,\n\u001b[1;32m   8722\u001b[0m         columns\u001b[39m=\u001b[39;49mcolumns,\n\u001b[1;32m   8723\u001b[0m         aggfunc\u001b[39m=\u001b[39;49maggfunc,\n\u001b[1;32m   8724\u001b[0m         fill_value\u001b[39m=\u001b[39;49mfill_value,\n\u001b[1;32m   8725\u001b[0m         margins\u001b[39m=\u001b[39;49mmargins,\n\u001b[1;32m   8726\u001b[0m         dropna\u001b[39m=\u001b[39;49mdropna,\n\u001b[1;32m   8727\u001b[0m         margins_name\u001b[39m=\u001b[39;49mmargins_name,\n\u001b[1;32m   8728\u001b[0m         observed\u001b[39m=\u001b[39;49mobserved,\n\u001b[1;32m   8729\u001b[0m         sort\u001b[39m=\u001b[39;49msort,\n\u001b[1;32m   8730\u001b[0m     )\n",
      "File \u001b[0;32m~/.local/lib/python3.10/site-packages/pandas/core/reshape/pivot.py:96\u001b[0m, in \u001b[0;36mpivot_table\u001b[0;34m(data, values, index, columns, aggfunc, fill_value, margins, dropna, margins_name, observed, sort)\u001b[0m\n\u001b[1;32m     93\u001b[0m     table \u001b[39m=\u001b[39m concat(pieces, keys\u001b[39m=\u001b[39mkeys, axis\u001b[39m=\u001b[39m\u001b[39m1\u001b[39m)\n\u001b[1;32m     94\u001b[0m     \u001b[39mreturn\u001b[39;00m table\u001b[39m.\u001b[39m__finalize__(data, method\u001b[39m=\u001b[39m\u001b[39m\"\u001b[39m\u001b[39mpivot_table\u001b[39m\u001b[39m\"\u001b[39m)\n\u001b[0;32m---> 96\u001b[0m table \u001b[39m=\u001b[39m __internal_pivot_table(\n\u001b[1;32m     97\u001b[0m     data,\n\u001b[1;32m     98\u001b[0m     values,\n\u001b[1;32m     99\u001b[0m     index,\n\u001b[1;32m    100\u001b[0m     columns,\n\u001b[1;32m    101\u001b[0m     aggfunc,\n\u001b[1;32m    102\u001b[0m     fill_value,\n\u001b[1;32m    103\u001b[0m     margins,\n\u001b[1;32m    104\u001b[0m     dropna,\n\u001b[1;32m    105\u001b[0m     margins_name,\n\u001b[1;32m    106\u001b[0m     observed,\n\u001b[1;32m    107\u001b[0m     sort,\n\u001b[1;32m    108\u001b[0m )\n\u001b[1;32m    109\u001b[0m \u001b[39mreturn\u001b[39;00m table\u001b[39m.\u001b[39m__finalize__(data, method\u001b[39m=\u001b[39m\u001b[39m\"\u001b[39m\u001b[39mpivot_table\u001b[39m\u001b[39m\"\u001b[39m)\n",
      "File \u001b[0;32m~/.local/lib/python3.10/site-packages/pandas/core/reshape/pivot.py:165\u001b[0m, in \u001b[0;36m__internal_pivot_table\u001b[0;34m(data, values, index, columns, aggfunc, fill_value, margins, dropna, margins_name, observed, sort)\u001b[0m\n\u001b[1;32m    162\u001b[0m             \u001b[39mpass\u001b[39;00m\n\u001b[1;32m    163\u001b[0m     values \u001b[39m=\u001b[39m \u001b[39mlist\u001b[39m(values)\n\u001b[0;32m--> 165\u001b[0m grouped \u001b[39m=\u001b[39m data\u001b[39m.\u001b[39;49mgroupby(keys, observed\u001b[39m=\u001b[39;49mobserved, sort\u001b[39m=\u001b[39;49msort)\n\u001b[1;32m    166\u001b[0m agged \u001b[39m=\u001b[39m grouped\u001b[39m.\u001b[39magg(aggfunc)\n\u001b[1;32m    167\u001b[0m \u001b[39mif\u001b[39;00m dropna \u001b[39mand\u001b[39;00m \u001b[39misinstance\u001b[39m(agged, ABCDataFrame) \u001b[39mand\u001b[39;00m \u001b[39mlen\u001b[39m(agged\u001b[39m.\u001b[39mcolumns):\n",
      "File \u001b[0;32m~/.local/lib/python3.10/site-packages/pandas/core/frame.py:8389\u001b[0m, in \u001b[0;36mDataFrame.groupby\u001b[0;34m(self, by, axis, level, as_index, sort, group_keys, squeeze, observed, dropna)\u001b[0m\n\u001b[1;32m   8386\u001b[0m     \u001b[39mraise\u001b[39;00m \u001b[39mTypeError\u001b[39;00m(\u001b[39m\"\u001b[39m\u001b[39mYou have to supply one of \u001b[39m\u001b[39m'\u001b[39m\u001b[39mby\u001b[39m\u001b[39m'\u001b[39m\u001b[39m and \u001b[39m\u001b[39m'\u001b[39m\u001b[39mlevel\u001b[39m\u001b[39m'\u001b[39m\u001b[39m\"\u001b[39m)\n\u001b[1;32m   8387\u001b[0m axis \u001b[39m=\u001b[39m \u001b[39mself\u001b[39m\u001b[39m.\u001b[39m_get_axis_number(axis)\n\u001b[0;32m-> 8389\u001b[0m \u001b[39mreturn\u001b[39;00m DataFrameGroupBy(\n\u001b[1;32m   8390\u001b[0m     obj\u001b[39m=\u001b[39;49m\u001b[39mself\u001b[39;49m,\n\u001b[1;32m   8391\u001b[0m     keys\u001b[39m=\u001b[39;49mby,\n\u001b[1;32m   8392\u001b[0m     axis\u001b[39m=\u001b[39;49maxis,\n\u001b[1;32m   8393\u001b[0m     level\u001b[39m=\u001b[39;49mlevel,\n\u001b[1;32m   8394\u001b[0m     as_index\u001b[39m=\u001b[39;49mas_index,\n\u001b[1;32m   8395\u001b[0m     sort\u001b[39m=\u001b[39;49msort,\n\u001b[1;32m   8396\u001b[0m     group_keys\u001b[39m=\u001b[39;49mgroup_keys,\n\u001b[1;32m   8397\u001b[0m     squeeze\u001b[39m=\u001b[39;49msqueeze,\n\u001b[1;32m   8398\u001b[0m     observed\u001b[39m=\u001b[39;49mobserved,\n\u001b[1;32m   8399\u001b[0m     dropna\u001b[39m=\u001b[39;49mdropna,\n\u001b[1;32m   8400\u001b[0m )\n",
      "File \u001b[0;32m~/.local/lib/python3.10/site-packages/pandas/core/groupby/groupby.py:959\u001b[0m, in \u001b[0;36mGroupBy.__init__\u001b[0;34m(self, obj, keys, axis, level, grouper, exclusions, selection, as_index, sort, group_keys, squeeze, observed, mutated, dropna)\u001b[0m\n\u001b[1;32m    956\u001b[0m \u001b[39mif\u001b[39;00m grouper \u001b[39mis\u001b[39;00m \u001b[39mNone\u001b[39;00m:\n\u001b[1;32m    957\u001b[0m     \u001b[39mfrom\u001b[39;00m \u001b[39mpandas\u001b[39;00m\u001b[39m.\u001b[39;00m\u001b[39mcore\u001b[39;00m\u001b[39m.\u001b[39;00m\u001b[39mgroupby\u001b[39;00m\u001b[39m.\u001b[39;00m\u001b[39mgrouper\u001b[39;00m \u001b[39mimport\u001b[39;00m get_grouper\n\u001b[0;32m--> 959\u001b[0m     grouper, exclusions, obj \u001b[39m=\u001b[39m get_grouper(\n\u001b[1;32m    960\u001b[0m         obj,\n\u001b[1;32m    961\u001b[0m         keys,\n\u001b[1;32m    962\u001b[0m         axis\u001b[39m=\u001b[39;49maxis,\n\u001b[1;32m    963\u001b[0m         level\u001b[39m=\u001b[39;49mlevel,\n\u001b[1;32m    964\u001b[0m         sort\u001b[39m=\u001b[39;49msort,\n\u001b[1;32m    965\u001b[0m         observed\u001b[39m=\u001b[39;49mobserved,\n\u001b[1;32m    966\u001b[0m         mutated\u001b[39m=\u001b[39;49m\u001b[39mself\u001b[39;49m\u001b[39m.\u001b[39;49mmutated,\n\u001b[1;32m    967\u001b[0m         dropna\u001b[39m=\u001b[39;49m\u001b[39mself\u001b[39;49m\u001b[39m.\u001b[39;49mdropna,\n\u001b[1;32m    968\u001b[0m     )\n\u001b[1;32m    970\u001b[0m \u001b[39mself\u001b[39m\u001b[39m.\u001b[39mobj \u001b[39m=\u001b[39m obj\n\u001b[1;32m    971\u001b[0m \u001b[39mself\u001b[39m\u001b[39m.\u001b[39maxis \u001b[39m=\u001b[39m obj\u001b[39m.\u001b[39m_get_axis_number(axis)\n",
      "File \u001b[0;32m~/.local/lib/python3.10/site-packages/pandas/core/groupby/grouper.py:888\u001b[0m, in \u001b[0;36mget_grouper\u001b[0;34m(obj, key, axis, level, sort, observed, mutated, validate, dropna)\u001b[0m\n\u001b[1;32m    886\u001b[0m         in_axis, level, gpr \u001b[39m=\u001b[39m \u001b[39mFalse\u001b[39;00m, gpr, \u001b[39mNone\u001b[39;00m\n\u001b[1;32m    887\u001b[0m     \u001b[39melse\u001b[39;00m:\n\u001b[0;32m--> 888\u001b[0m         \u001b[39mraise\u001b[39;00m \u001b[39mKeyError\u001b[39;00m(gpr)\n\u001b[1;32m    889\u001b[0m \u001b[39melif\u001b[39;00m \u001b[39misinstance\u001b[39m(gpr, Grouper) \u001b[39mand\u001b[39;00m gpr\u001b[39m.\u001b[39mkey \u001b[39mis\u001b[39;00m \u001b[39mnot\u001b[39;00m \u001b[39mNone\u001b[39;00m:\n\u001b[1;32m    890\u001b[0m     \u001b[39m# Add key to exclusions\u001b[39;00m\n\u001b[1;32m    891\u001b[0m     exclusions\u001b[39m.\u001b[39madd(gpr\u001b[39m.\u001b[39mkey)\n",
      "\u001b[0;31mKeyError\u001b[0m: 'Course Code'"
     ]
    }
   ],
   "source": [
    "Adm.pivot_table(index=['Course Code','Gender'],aggfunc='count')['Name']"
   ]
  },
  {
   "cell_type": "markdown",
   "id": "2a1ad0ea",
   "metadata": {},
   "source": [
    "b) For each ‘List’, find the total number of admissions, minimum ‘Marks%’\n",
    "and maximum ‘Marks%’ in each course."
   ]
  },
  {
   "cell_type": "code",
   "execution_count": null,
   "id": "69cb629c",
   "metadata": {},
   "outputs": [
    {
     "data": {
      "text/html": [
       "<div>\n",
       "<style scoped>\n",
       "    .dataframe tbody tr th:only-of-type {\n",
       "        vertical-align: middle;\n",
       "    }\n",
       "\n",
       "    .dataframe tbody tr th {\n",
       "        vertical-align: top;\n",
       "    }\n",
       "\n",
       "    .dataframe thead th {\n",
       "        text-align: right;\n",
       "    }\n",
       "</style>\n",
       "<table border=\"1\" class=\"dataframe\">\n",
       "  <thead>\n",
       "    <tr style=\"text-align: right;\">\n",
       "      <th></th>\n",
       "      <th>Marks(%)</th>\n",
       "    </tr>\n",
       "    <tr>\n",
       "      <th>Course Code</th>\n",
       "      <th></th>\n",
       "    </tr>\n",
       "  </thead>\n",
       "  <tbody>\n",
       "    <tr>\n",
       "      <th>C001</th>\n",
       "      <td>97.0</td>\n",
       "    </tr>\n",
       "    <tr>\n",
       "      <th>C009</th>\n",
       "      <td>95.0</td>\n",
       "    </tr>\n",
       "    <tr>\n",
       "      <th>C112</th>\n",
       "      <td>90.0</td>\n",
       "    </tr>\n",
       "  </tbody>\n",
       "</table>\n",
       "</div>"
      ],
      "text/plain": [
       "             Marks(%)\n",
       "Course Code          \n",
       "C001             97.0\n",
       "C009             95.0\n",
       "C112             90.0"
      ]
     },
     "execution_count": 41,
     "metadata": {},
     "output_type": "execute_result"
    }
   ],
   "source": [
    "Adm.groupby('Course Code').max('Marks(%)')"
   ]
  },
  {
   "cell_type": "code",
   "execution_count": null,
   "id": "72044e01",
   "metadata": {},
   "outputs": [
    {
     "data": {
      "text/html": [
       "<div>\n",
       "<style scoped>\n",
       "    .dataframe tbody tr th:only-of-type {\n",
       "        vertical-align: middle;\n",
       "    }\n",
       "\n",
       "    .dataframe tbody tr th {\n",
       "        vertical-align: top;\n",
       "    }\n",
       "\n",
       "    .dataframe thead th {\n",
       "        text-align: right;\n",
       "    }\n",
       "</style>\n",
       "<table border=\"1\" class=\"dataframe\">\n",
       "  <thead>\n",
       "    <tr style=\"text-align: right;\">\n",
       "      <th></th>\n",
       "      <th>Marks(%)</th>\n",
       "    </tr>\n",
       "    <tr>\n",
       "      <th>Course Code</th>\n",
       "      <th></th>\n",
       "    </tr>\n",
       "  </thead>\n",
       "  <tbody>\n",
       "    <tr>\n",
       "      <th>C001</th>\n",
       "      <td>95.75</td>\n",
       "    </tr>\n",
       "    <tr>\n",
       "      <th>C009</th>\n",
       "      <td>93.50</td>\n",
       "    </tr>\n",
       "    <tr>\n",
       "      <th>C112</th>\n",
       "      <td>88.50</td>\n",
       "    </tr>\n",
       "  </tbody>\n",
       "</table>\n",
       "</div>"
      ],
      "text/plain": [
       "             Marks(%)\n",
       "Course Code          \n",
       "C001            95.75\n",
       "C009            93.50\n",
       "C112            88.50"
      ]
     },
     "execution_count": 42,
     "metadata": {},
     "output_type": "execute_result"
    }
   ],
   "source": [
    "Adm.groupby('Course Code').min('Marks(%)')"
   ]
  },
  {
   "cell_type": "code",
   "execution_count": null,
   "id": "ebd5d0bd",
   "metadata": {},
   "outputs": [
    {
     "data": {
      "text/plain": [
       "List\n",
       "I      3\n",
       "II     3\n",
       "III    2\n",
       "IV     2\n",
       "Name: Name, dtype: int64"
      ]
     },
     "execution_count": 80,
     "metadata": {},
     "output_type": "execute_result"
    }
   ],
   "source": [
    "Adm.groupby('List').count()['Name']"
   ]
  },
  {
   "cell_type": "markdown",
   "id": "36078db1",
   "metadata": {},
   "source": [
    "c) Calculate and display the average ‘Marks%’ of all Female students of\n",
    "course ‘C112’."
   ]
  },
  {
   "cell_type": "code",
   "execution_count": null,
   "id": "049bfc8b",
   "metadata": {},
   "outputs": [
    {
     "data": {
      "text/plain": [
       "89.5"
      ]
     },
     "execution_count": 44,
     "metadata": {},
     "output_type": "execute_result"
    }
   ],
   "source": [
    "C112=Adm[Adm['Course Code']=='C112']\n",
    "C112[C112['Gender']=='Female']['Marks(%)'].mean()"
   ]
  },
  {
   "cell_type": "markdown",
   "id": "1c296024",
   "metadata": {},
   "source": [
    "# Q6"
   ]
  },
  {
   "cell_type": "markdown",
   "id": "a12359df",
   "metadata": {},
   "source": [
    "a) Give Pandas statements to create two data series of random floating-point\n",
    "numbers where the first data series has a datetime index of all second\n",
    "Tuesdays of every month of 2021 and the second data series has a datetime\n",
    "index of 20 continuous dates ending at 31/01/2021."
   ]
  },
  {
   "cell_type": "code",
   "execution_count": null,
   "id": "664bd9cc",
   "metadata": {},
   "outputs": [
    {
     "data": {
      "text/plain": [
       "2021-01-12   -0.867357\n",
       "2021-02-09   -0.215481\n",
       "2021-03-09    0.312550\n",
       "2021-04-13    0.912210\n",
       "2021-05-11   -0.832939\n",
       "2021-06-08    1.132506\n",
       "2021-07-13   -0.137903\n",
       "2021-08-10    0.831067\n",
       "2021-09-14    0.404590\n",
       "2021-10-12    1.881467\n",
       "2021-11-09    1.512149\n",
       "2021-12-14   -1.066883\n",
       "Freq: WOM-2TUE, dtype: float64"
      ]
     },
     "execution_count": 52,
     "metadata": {},
     "output_type": "execute_result"
    }
   ],
   "source": [
    "d1=pd.date_range('2021',periods=12,freq='WOM-2TUE')\n",
    "pd.Series(np.random.randn(12),index=d1)"
   ]
  },
  {
   "cell_type": "code",
   "execution_count": null,
   "id": "ae39b523",
   "metadata": {},
   "outputs": [
    {
     "data": {
      "text/plain": [
       "2021-01-12    0.222892\n",
       "2021-01-13    1.310355\n",
       "2021-01-14   -1.124509\n",
       "2021-01-15   -2.808353\n",
       "2021-01-16   -0.898294\n",
       "2021-01-17   -0.618187\n",
       "2021-01-18    0.104001\n",
       "2021-01-19   -0.075086\n",
       "2021-01-20   -0.255019\n",
       "2021-01-21    0.612534\n",
       "2021-01-22   -0.669064\n",
       "2021-01-23   -0.356531\n",
       "2021-01-24    0.088953\n",
       "2021-01-25    1.309216\n",
       "2021-01-26   -0.625258\n",
       "2021-01-27    0.494077\n",
       "2021-01-28   -1.010196\n",
       "2021-01-29   -0.878719\n",
       "2021-01-30   -0.657933\n",
       "2021-01-31   -0.977015\n",
       "Freq: D, dtype: float64"
      ]
     },
     "execution_count": 55,
     "metadata": {},
     "output_type": "execute_result"
    }
   ],
   "source": [
    "d2=pd.date_range(end='31/01/2021',periods=20)\n",
    "pd.Series(np.random.randn(20),index=d2)"
   ]
  },
  {
   "cell_type": "markdown",
   "id": "eb399727",
   "metadata": {},
   "source": [
    "b) What is resampling? Write python code depicting the usage of resample\n",
    "method"
   ]
  },
  {
   "cell_type": "code",
   "execution_count": null,
   "id": "59de5a79",
   "metadata": {},
   "outputs": [
    {
     "data": {
      "text/plain": [
       "2000-01-31    31\n",
       "2000-02-29    29\n",
       "2000-03-31    31\n",
       "2000-04-30     9\n",
       "Freq: M, dtype: int64"
      ]
     },
     "execution_count": 58,
     "metadata": {},
     "output_type": "execute_result"
    }
   ],
   "source": [
    "rng = pd.date_range('2000-01-01', periods=100, freq='D')\n",
    "ts = pd.Series(np.random.randn(len(rng)), index=rng)\n",
    "ts\n",
    "ts.resample('M').count()"
   ]
  },
  {
   "cell_type": "markdown",
   "id": "4a6e6104",
   "metadata": {},
   "source": [
    "c) Create a DataFrame DS with two columns ‘Dates’ and ‘Sale’ containing all\n",
    "dates of January 2021 and 31 random integers between 500 and 1000\n",
    "respectively. Add another column ‘Moving Avg’ to DS containing the\n",
    "rolling average of 5 consecutive values in the ‘Sale’ column. Plot simple\n",
    "line plots between ‘Dates’ and ‘Sale’ as well as ‘Dates’ and ‘Moving Avg’.\n",
    "Explain the utility of the rolling method with respect to these plots"
   ]
  },
  {
   "cell_type": "code",
   "execution_count": null,
   "id": "c4f7eb57",
   "metadata": {},
   "outputs": [
    {
     "data": {
      "text/html": [
       "<div>\n",
       "<style scoped>\n",
       "    .dataframe tbody tr th:only-of-type {\n",
       "        vertical-align: middle;\n",
       "    }\n",
       "\n",
       "    .dataframe tbody tr th {\n",
       "        vertical-align: top;\n",
       "    }\n",
       "\n",
       "    .dataframe thead th {\n",
       "        text-align: right;\n",
       "    }\n",
       "</style>\n",
       "<table border=\"1\" class=\"dataframe\">\n",
       "  <thead>\n",
       "    <tr style=\"text-align: right;\">\n",
       "      <th></th>\n",
       "      <th>Dates</th>\n",
       "      <th>Sale</th>\n",
       "    </tr>\n",
       "  </thead>\n",
       "  <tbody>\n",
       "    <tr>\n",
       "      <th>0</th>\n",
       "      <td>2021-01-01</td>\n",
       "      <td>771</td>\n",
       "    </tr>\n",
       "    <tr>\n",
       "      <th>1</th>\n",
       "      <td>2021-01-02</td>\n",
       "      <td>770</td>\n",
       "    </tr>\n",
       "    <tr>\n",
       "      <th>2</th>\n",
       "      <td>2021-01-03</td>\n",
       "      <td>507</td>\n",
       "    </tr>\n",
       "    <tr>\n",
       "      <th>3</th>\n",
       "      <td>2021-01-04</td>\n",
       "      <td>817</td>\n",
       "    </tr>\n",
       "    <tr>\n",
       "      <th>4</th>\n",
       "      <td>2021-01-05</td>\n",
       "      <td>781</td>\n",
       "    </tr>\n",
       "    <tr>\n",
       "      <th>5</th>\n",
       "      <td>2021-01-06</td>\n",
       "      <td>665</td>\n",
       "    </tr>\n",
       "    <tr>\n",
       "      <th>6</th>\n",
       "      <td>2021-01-07</td>\n",
       "      <td>996</td>\n",
       "    </tr>\n",
       "    <tr>\n",
       "      <th>7</th>\n",
       "      <td>2021-01-08</td>\n",
       "      <td>731</td>\n",
       "    </tr>\n",
       "    <tr>\n",
       "      <th>8</th>\n",
       "      <td>2021-01-09</td>\n",
       "      <td>571</td>\n",
       "    </tr>\n",
       "    <tr>\n",
       "      <th>9</th>\n",
       "      <td>2021-01-10</td>\n",
       "      <td>713</td>\n",
       "    </tr>\n",
       "    <tr>\n",
       "      <th>10</th>\n",
       "      <td>2021-01-11</td>\n",
       "      <td>554</td>\n",
       "    </tr>\n",
       "    <tr>\n",
       "      <th>11</th>\n",
       "      <td>2021-01-12</td>\n",
       "      <td>575</td>\n",
       "    </tr>\n",
       "    <tr>\n",
       "      <th>12</th>\n",
       "      <td>2021-01-13</td>\n",
       "      <td>897</td>\n",
       "    </tr>\n",
       "    <tr>\n",
       "      <th>13</th>\n",
       "      <td>2021-01-14</td>\n",
       "      <td>938</td>\n",
       "    </tr>\n",
       "    <tr>\n",
       "      <th>14</th>\n",
       "      <td>2021-01-15</td>\n",
       "      <td>963</td>\n",
       "    </tr>\n",
       "    <tr>\n",
       "      <th>15</th>\n",
       "      <td>2021-01-16</td>\n",
       "      <td>949</td>\n",
       "    </tr>\n",
       "    <tr>\n",
       "      <th>16</th>\n",
       "      <td>2021-01-17</td>\n",
       "      <td>825</td>\n",
       "    </tr>\n",
       "    <tr>\n",
       "      <th>17</th>\n",
       "      <td>2021-01-18</td>\n",
       "      <td>588</td>\n",
       "    </tr>\n",
       "    <tr>\n",
       "      <th>18</th>\n",
       "      <td>2021-01-19</td>\n",
       "      <td>676</td>\n",
       "    </tr>\n",
       "    <tr>\n",
       "      <th>19</th>\n",
       "      <td>2021-01-20</td>\n",
       "      <td>755</td>\n",
       "    </tr>\n",
       "    <tr>\n",
       "      <th>20</th>\n",
       "      <td>2021-01-21</td>\n",
       "      <td>583</td>\n",
       "    </tr>\n",
       "    <tr>\n",
       "      <th>21</th>\n",
       "      <td>2021-01-22</td>\n",
       "      <td>615</td>\n",
       "    </tr>\n",
       "    <tr>\n",
       "      <th>22</th>\n",
       "      <td>2021-01-23</td>\n",
       "      <td>596</td>\n",
       "    </tr>\n",
       "    <tr>\n",
       "      <th>23</th>\n",
       "      <td>2021-01-24</td>\n",
       "      <td>618</td>\n",
       "    </tr>\n",
       "    <tr>\n",
       "      <th>24</th>\n",
       "      <td>2021-01-25</td>\n",
       "      <td>917</td>\n",
       "    </tr>\n",
       "    <tr>\n",
       "      <th>25</th>\n",
       "      <td>2021-01-26</td>\n",
       "      <td>849</td>\n",
       "    </tr>\n",
       "    <tr>\n",
       "      <th>26</th>\n",
       "      <td>2021-01-27</td>\n",
       "      <td>515</td>\n",
       "    </tr>\n",
       "    <tr>\n",
       "      <th>27</th>\n",
       "      <td>2021-01-28</td>\n",
       "      <td>518</td>\n",
       "    </tr>\n",
       "    <tr>\n",
       "      <th>28</th>\n",
       "      <td>2021-01-29</td>\n",
       "      <td>938</td>\n",
       "    </tr>\n",
       "    <tr>\n",
       "      <th>29</th>\n",
       "      <td>2021-01-30</td>\n",
       "      <td>936</td>\n",
       "    </tr>\n",
       "    <tr>\n",
       "      <th>30</th>\n",
       "      <td>2021-01-31</td>\n",
       "      <td>901</td>\n",
       "    </tr>\n",
       "  </tbody>\n",
       "</table>\n",
       "</div>"
      ],
      "text/plain": [
       "        Dates  Sale\n",
       "0  2021-01-01   771\n",
       "1  2021-01-02   770\n",
       "2  2021-01-03   507\n",
       "3  2021-01-04   817\n",
       "4  2021-01-05   781\n",
       "5  2021-01-06   665\n",
       "6  2021-01-07   996\n",
       "7  2021-01-08   731\n",
       "8  2021-01-09   571\n",
       "9  2021-01-10   713\n",
       "10 2021-01-11   554\n",
       "11 2021-01-12   575\n",
       "12 2021-01-13   897\n",
       "13 2021-01-14   938\n",
       "14 2021-01-15   963\n",
       "15 2021-01-16   949\n",
       "16 2021-01-17   825\n",
       "17 2021-01-18   588\n",
       "18 2021-01-19   676\n",
       "19 2021-01-20   755\n",
       "20 2021-01-21   583\n",
       "21 2021-01-22   615\n",
       "22 2021-01-23   596\n",
       "23 2021-01-24   618\n",
       "24 2021-01-25   917\n",
       "25 2021-01-26   849\n",
       "26 2021-01-27   515\n",
       "27 2021-01-28   518\n",
       "28 2021-01-29   938\n",
       "29 2021-01-30   936\n",
       "30 2021-01-31   901"
      ]
     },
     "execution_count": 61,
     "metadata": {},
     "output_type": "execute_result"
    }
   ],
   "source": [
    "dict1={'Dates':pd.date_range('2021',periods=31),'Sale':np.random.randint(500,1000,31)}\n",
    "DS=pd.DataFrame(dict1)\n",
    "DS"
   ]
  },
  {
   "cell_type": "code",
   "execution_count": null,
   "id": "210b4e27",
   "metadata": {},
   "outputs": [
    {
     "data": {
      "text/html": [
       "<div>\n",
       "<style scoped>\n",
       "    .dataframe tbody tr th:only-of-type {\n",
       "        vertical-align: middle;\n",
       "    }\n",
       "\n",
       "    .dataframe tbody tr th {\n",
       "        vertical-align: top;\n",
       "    }\n",
       "\n",
       "    .dataframe thead th {\n",
       "        text-align: right;\n",
       "    }\n",
       "</style>\n",
       "<table border=\"1\" class=\"dataframe\">\n",
       "  <thead>\n",
       "    <tr style=\"text-align: right;\">\n",
       "      <th></th>\n",
       "      <th>Dates</th>\n",
       "      <th>Sale</th>\n",
       "      <th>Moving Avg</th>\n",
       "    </tr>\n",
       "  </thead>\n",
       "  <tbody>\n",
       "    <tr>\n",
       "      <th>0</th>\n",
       "      <td>2021-01-01</td>\n",
       "      <td>771</td>\n",
       "      <td>771.0</td>\n",
       "    </tr>\n",
       "    <tr>\n",
       "      <th>1</th>\n",
       "      <td>2021-01-02</td>\n",
       "      <td>770</td>\n",
       "      <td>1541.0</td>\n",
       "    </tr>\n",
       "    <tr>\n",
       "      <th>2</th>\n",
       "      <td>2021-01-03</td>\n",
       "      <td>507</td>\n",
       "      <td>2048.0</td>\n",
       "    </tr>\n",
       "    <tr>\n",
       "      <th>3</th>\n",
       "      <td>2021-01-04</td>\n",
       "      <td>817</td>\n",
       "      <td>2865.0</td>\n",
       "    </tr>\n",
       "    <tr>\n",
       "      <th>4</th>\n",
       "      <td>2021-01-05</td>\n",
       "      <td>781</td>\n",
       "      <td>3646.0</td>\n",
       "    </tr>\n",
       "    <tr>\n",
       "      <th>5</th>\n",
       "      <td>2021-01-06</td>\n",
       "      <td>665</td>\n",
       "      <td>3540.0</td>\n",
       "    </tr>\n",
       "    <tr>\n",
       "      <th>6</th>\n",
       "      <td>2021-01-07</td>\n",
       "      <td>996</td>\n",
       "      <td>3766.0</td>\n",
       "    </tr>\n",
       "    <tr>\n",
       "      <th>7</th>\n",
       "      <td>2021-01-08</td>\n",
       "      <td>731</td>\n",
       "      <td>3990.0</td>\n",
       "    </tr>\n",
       "    <tr>\n",
       "      <th>8</th>\n",
       "      <td>2021-01-09</td>\n",
       "      <td>571</td>\n",
       "      <td>3744.0</td>\n",
       "    </tr>\n",
       "    <tr>\n",
       "      <th>9</th>\n",
       "      <td>2021-01-10</td>\n",
       "      <td>713</td>\n",
       "      <td>3676.0</td>\n",
       "    </tr>\n",
       "    <tr>\n",
       "      <th>10</th>\n",
       "      <td>2021-01-11</td>\n",
       "      <td>554</td>\n",
       "      <td>3565.0</td>\n",
       "    </tr>\n",
       "    <tr>\n",
       "      <th>11</th>\n",
       "      <td>2021-01-12</td>\n",
       "      <td>575</td>\n",
       "      <td>3144.0</td>\n",
       "    </tr>\n",
       "    <tr>\n",
       "      <th>12</th>\n",
       "      <td>2021-01-13</td>\n",
       "      <td>897</td>\n",
       "      <td>3310.0</td>\n",
       "    </tr>\n",
       "    <tr>\n",
       "      <th>13</th>\n",
       "      <td>2021-01-14</td>\n",
       "      <td>938</td>\n",
       "      <td>3677.0</td>\n",
       "    </tr>\n",
       "    <tr>\n",
       "      <th>14</th>\n",
       "      <td>2021-01-15</td>\n",
       "      <td>963</td>\n",
       "      <td>3927.0</td>\n",
       "    </tr>\n",
       "    <tr>\n",
       "      <th>15</th>\n",
       "      <td>2021-01-16</td>\n",
       "      <td>949</td>\n",
       "      <td>4322.0</td>\n",
       "    </tr>\n",
       "    <tr>\n",
       "      <th>16</th>\n",
       "      <td>2021-01-17</td>\n",
       "      <td>825</td>\n",
       "      <td>4572.0</td>\n",
       "    </tr>\n",
       "    <tr>\n",
       "      <th>17</th>\n",
       "      <td>2021-01-18</td>\n",
       "      <td>588</td>\n",
       "      <td>4263.0</td>\n",
       "    </tr>\n",
       "    <tr>\n",
       "      <th>18</th>\n",
       "      <td>2021-01-19</td>\n",
       "      <td>676</td>\n",
       "      <td>4001.0</td>\n",
       "    </tr>\n",
       "    <tr>\n",
       "      <th>19</th>\n",
       "      <td>2021-01-20</td>\n",
       "      <td>755</td>\n",
       "      <td>3793.0</td>\n",
       "    </tr>\n",
       "    <tr>\n",
       "      <th>20</th>\n",
       "      <td>2021-01-21</td>\n",
       "      <td>583</td>\n",
       "      <td>3427.0</td>\n",
       "    </tr>\n",
       "    <tr>\n",
       "      <th>21</th>\n",
       "      <td>2021-01-22</td>\n",
       "      <td>615</td>\n",
       "      <td>3217.0</td>\n",
       "    </tr>\n",
       "    <tr>\n",
       "      <th>22</th>\n",
       "      <td>2021-01-23</td>\n",
       "      <td>596</td>\n",
       "      <td>3225.0</td>\n",
       "    </tr>\n",
       "    <tr>\n",
       "      <th>23</th>\n",
       "      <td>2021-01-24</td>\n",
       "      <td>618</td>\n",
       "      <td>3167.0</td>\n",
       "    </tr>\n",
       "    <tr>\n",
       "      <th>24</th>\n",
       "      <td>2021-01-25</td>\n",
       "      <td>917</td>\n",
       "      <td>3329.0</td>\n",
       "    </tr>\n",
       "    <tr>\n",
       "      <th>25</th>\n",
       "      <td>2021-01-26</td>\n",
       "      <td>849</td>\n",
       "      <td>3595.0</td>\n",
       "    </tr>\n",
       "    <tr>\n",
       "      <th>26</th>\n",
       "      <td>2021-01-27</td>\n",
       "      <td>515</td>\n",
       "      <td>3495.0</td>\n",
       "    </tr>\n",
       "    <tr>\n",
       "      <th>27</th>\n",
       "      <td>2021-01-28</td>\n",
       "      <td>518</td>\n",
       "      <td>3417.0</td>\n",
       "    </tr>\n",
       "    <tr>\n",
       "      <th>28</th>\n",
       "      <td>2021-01-29</td>\n",
       "      <td>938</td>\n",
       "      <td>3737.0</td>\n",
       "    </tr>\n",
       "    <tr>\n",
       "      <th>29</th>\n",
       "      <td>2021-01-30</td>\n",
       "      <td>936</td>\n",
       "      <td>3756.0</td>\n",
       "    </tr>\n",
       "    <tr>\n",
       "      <th>30</th>\n",
       "      <td>2021-01-31</td>\n",
       "      <td>901</td>\n",
       "      <td>3808.0</td>\n",
       "    </tr>\n",
       "  </tbody>\n",
       "</table>\n",
       "</div>"
      ],
      "text/plain": [
       "        Dates  Sale  Moving Avg\n",
       "0  2021-01-01   771       771.0\n",
       "1  2021-01-02   770      1541.0\n",
       "2  2021-01-03   507      2048.0\n",
       "3  2021-01-04   817      2865.0\n",
       "4  2021-01-05   781      3646.0\n",
       "5  2021-01-06   665      3540.0\n",
       "6  2021-01-07   996      3766.0\n",
       "7  2021-01-08   731      3990.0\n",
       "8  2021-01-09   571      3744.0\n",
       "9  2021-01-10   713      3676.0\n",
       "10 2021-01-11   554      3565.0\n",
       "11 2021-01-12   575      3144.0\n",
       "12 2021-01-13   897      3310.0\n",
       "13 2021-01-14   938      3677.0\n",
       "14 2021-01-15   963      3927.0\n",
       "15 2021-01-16   949      4322.0\n",
       "16 2021-01-17   825      4572.0\n",
       "17 2021-01-18   588      4263.0\n",
       "18 2021-01-19   676      4001.0\n",
       "19 2021-01-20   755      3793.0\n",
       "20 2021-01-21   583      3427.0\n",
       "21 2021-01-22   615      3217.0\n",
       "22 2021-01-23   596      3225.0\n",
       "23 2021-01-24   618      3167.0\n",
       "24 2021-01-25   917      3329.0\n",
       "25 2021-01-26   849      3595.0\n",
       "26 2021-01-27   515      3495.0\n",
       "27 2021-01-28   518      3417.0\n",
       "28 2021-01-29   938      3737.0\n",
       "29 2021-01-30   936      3756.0\n",
       "30 2021-01-31   901      3808.0"
      ]
     },
     "execution_count": 73,
     "metadata": {},
     "output_type": "execute_result"
    }
   ],
   "source": [
    "movingAvg=DS['Sale'].rolling(5,min_periods=1).sum()\n",
    "DS['Moving Avg']=movingAvg\n",
    "DS"
   ]
  },
  {
   "cell_type": "code",
   "execution_count": null,
   "id": "bdcfdd72",
   "metadata": {},
   "outputs": [
    {
     "data": {
      "image/png": "[encoded data removed]",
      "text/plain": [
       "<Figure size 1152x864 with 1 Axes>"
      ]
     },
     "metadata": {
      "needs_background": "light"
     },
     "output_type": "display_data"
    }
   ],
   "source": [
    "plt.figure(figsize=(16,12))\n",
    "plt.plot(DS['Dates'],DS['Sale'],label='date-sales')\n",
    "plt.plot(DS['Dates'],DS['Moving Avg'],label='date-moving avg')\n",
    "plt.legend()\n",
    "plt.show()"
   ]
  },
  {
   "cell_type": "code",
   "execution_count": null,
   "id": "8fd2dcee",
   "metadata": {},
   "outputs": [],
   "source": []
  }
 ],
 "metadata": {
  "kernelspec": {
   "display_name": "Python 3.10.6 64-bit",
   "language": "python",
   "name": "python3"
  },
  "language_info": {
   "codemirror_mode": {
    "name": "ipython",
    "version": 3
   },
   "file_extension": ".py",
   "mimetype": "text/x-python",
   "name": "python",
   "nbconvert_exporter": "python",
   "pygments_lexer": "ipython3",
   "version": "3.10.6"
  },
  "vscode": {
   "interpreter": {
    "hash": "916dbcbb3f70747c44a77c7bcd40155683ae19c65e1c03b4aa3499c5328201f1"
   }
  }
 },
 "nbformat": 4,
 "nbformat_minor": 5
}
